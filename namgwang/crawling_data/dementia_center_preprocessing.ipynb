{
 "cells": [
  {
   "cell_type": "code",
   "execution_count": 1,
   "id": "112a4ab5",
   "metadata": {
    "scrolled": false
   },
   "outputs": [],
   "source": [
    "# 모듈 로딩\n",
    "import pandas as pd\n",
    "\n",
    "# 데이터 로딩\n",
    "df = pd.read_csv('./data/전국치매센터표준데이터.csv', encoding='cp949')"
   ]
  },
  {
   "cell_type": "code",
   "execution_count": 2,
   "id": "f1bbe754",
   "metadata": {},
   "outputs": [
    {
     "data": {
      "text/plain": [
       "['치매센터명',\n",
       " '치매센터유형',\n",
       " '소재지도로명주소',\n",
       " '소재지지번주소',\n",
       " '위도',\n",
       " '경도',\n",
       " '운영기관명',\n",
       " '운영기관전화번호',\n",
       " '주요치매관리프로그램소개',\n",
       " '관리기관전화번호',\n",
       " '관리기관명',\n",
       " '제공기관명']"
      ]
     },
     "execution_count": 2,
     "metadata": {},
     "output_type": "execute_result"
    }
   ],
   "source": [
    "['치매센터명', '치매센터유형', '소재지도로명주소', '소재지지번주소', '위도', '경도', '운영기관명',\n",
    "'운영기관전화번호', '주요치매관리프로그램소개', '관리기관전화번호', '관리기관명', '제공기관명']"
   ]
  },
  {
   "cell_type": "code",
   "execution_count": 3,
   "id": "a3f646f5",
   "metadata": {},
   "outputs": [
    {
     "data": {
      "text/plain": [
       "Index(['치매센터명', '치매센터유형', '소재지도로명주소', '소재지지번주소', '위도', '경도', '설립연월', '건축물면적',\n",
       "       '부대시설정보', '의사인원수', '간호사인원수', '사회복지사인원수', '기타인원현황', '운영기관명', '운영기관대표자명',\n",
       "       '운영기관전화번호', '운영위탁일자', '주요치매관리프로그램소개', '관리기관전화번호', '관리기관명', '데이터기준일자',\n",
       "       '제공기관코드', '제공기관명'],\n",
       "      dtype='object')"
      ]
     },
     "execution_count": 3,
     "metadata": {},
     "output_type": "execute_result"
    }
   ],
   "source": [
    "# 컬럼명 확인\n",
    "df.columns"
   ]
  },
  {
   "cell_type": "code",
   "execution_count": 4,
   "id": "e4ed0524",
   "metadata": {},
   "outputs": [],
   "source": [
    "# 필요 없는 컬럼 삭제\n",
    "df = df.drop(['설립연월','건축물면적','부대시설정보','의사인원수','간호사인원수','사회복지사인원수','기타인원현황','운영기관대표자명','운영위탁일자','데이터기준일자','제공기관코드'], axis=1)"
   ]
  },
  {
   "cell_type": "code",
   "execution_count": 5,
   "id": "1b588ddd",
   "metadata": {
    "scrolled": false
   },
   "outputs": [
    {
     "data": {
      "text/plain": [
       "Index(['치매센터명', '치매센터유형', '소재지도로명주소', '소재지지번주소', '위도', '경도', '운영기관명',\n",
       "       '운영기관전화번호', '주요치매관리프로그램소개', '관리기관전화번호', '관리기관명', '제공기관명'],\n",
       "      dtype='object')"
      ]
     },
     "execution_count": 5,
     "metadata": {},
     "output_type": "execute_result"
    }
   ],
   "source": [
    "# 컬럼명 확인\n",
    "df.columns"
   ]
  },
  {
   "cell_type": "code",
   "execution_count": 6,
   "id": "25650294",
   "metadata": {},
   "outputs": [],
   "source": [
    "# '소재지도로명주소' 컬럼 값 변경\n",
    "addr = {'대전광역시서구둔산서로100+건강체련관3층':'대전광역시 서구 둔산서로100 + 건강체련관3층'}\n",
    "\n",
    "df['소재지도로명주소'] = df['소재지도로명주소'].apply(lambda v: addr.get(v, v))"
   ]
  },
  {
   "cell_type": "code",
   "execution_count": 7,
   "id": "8da92b42",
   "metadata": {},
   "outputs": [],
   "source": [
    "sd = []  # '시도' 컬럼 값 담을 리스트\n",
    "sgg = []  # '시군구' 컬럼 값 담을 리스트\n",
    "\n",
    "for idx in range(df.shape[0]):\n",
    "    sd.append(df.소재지도로명주소[idx].split()[0])\n",
    "    sgg.append(df.소재지도로명주소[idx].split()[1])"
   ]
  },
  {
   "cell_type": "code",
   "execution_count": 8,
   "id": "8ec05032",
   "metadata": {},
   "outputs": [],
   "source": [
    "# '시도' 컬럼 값 삽입\n",
    "df.insert(0, '시도', sd)"
   ]
  },
  {
   "cell_type": "code",
   "execution_count": 9,
   "id": "4c1b593b",
   "metadata": {},
   "outputs": [],
   "source": [
    "# '시군구' 컬럼 값 삽입\n",
    "df.insert(1, '시군구', sgg)"
   ]
  },
  {
   "cell_type": "code",
   "execution_count": 10,
   "id": "8edf9d61",
   "metadata": {},
   "outputs": [],
   "source": [
    "# '시도' 컬럼 값 변경\n",
    "addr = {'서울시':'서울특별시'}\n",
    "\n",
    "df['시도']=df['시도'].apply(lambda v: addr.get(v, v))"
   ]
  },
  {
   "cell_type": "code",
   "execution_count": 11,
   "id": "3c7253ed",
   "metadata": {},
   "outputs": [
    {
     "data": {
      "text/plain": [
       "array(['전라북도', '충청남도', '세종특별자치시', '전라남도', '서울특별시', '경상북도', '경상남도', '강원도',\n",
       "       '인천광역시', '대전광역시', '경기도', '부산광역시', '충청북도', '울산광역시', '대구광역시',\n",
       "       '광주광역시', '제주특별자치도'], dtype=object)"
      ]
     },
     "execution_count": 11,
     "metadata": {},
     "output_type": "execute_result"
    }
   ],
   "source": [
    "# '시도' 컬럼 값 확인\n",
    "df.시도.unique()"
   ]
  },
  {
   "cell_type": "code",
   "execution_count": 12,
   "id": "9bf8fd86",
   "metadata": {},
   "outputs": [],
   "source": [
    "# 데이터프레임 df -> csv 파일 저장\n",
    "df.to_csv('전국치매센터표준데이터.csv', index=False)"
   ]
  }
 ],
 "metadata": {
  "kernelspec": {
   "display_name": "Python 3 (ipykernel)",
   "language": "python",
   "name": "python3"
  },
  "language_info": {
   "codemirror_mode": {
    "name": "ipython",
    "version": 3
   },
   "file_extension": ".py",
   "mimetype": "text/x-python",
   "name": "python",
   "nbconvert_exporter": "python",
   "pygments_lexer": "ipython3",
   "version": "3.9.13"
  }
 },
 "nbformat": 4,
 "nbformat_minor": 5
}
