{
 "cells": [
  {
   "cell_type": "markdown",
   "metadata": {},
   "source": [
    "## 여가 및 문화생활 크롤링"
   ]
  },
  {
   "cell_type": "code",
   "execution_count": null,
   "metadata": {},
   "outputs": [],
   "source": [
    "import pandas as pd \n",
    "import numpy as np\n",
    "import matplotlib.pyplot as plt\n",
    "from selenium import webdriver\n",
    "from selenium.webdriver.common.by import By\n",
    "from bs4 import BeautifulSoup\n",
    "\n",
    "import re\n",
    "import time\n",
    "options = webdriver.ChromeOptions()\n",
    "options.add_argument('User-Agent = Mozilla/5.0 (Windows NT 10.0; Win64; x64) AppleWebKit/537.36 (KHTML, like Gecko) Chrome/98.0.4758.102 Safari/537.36')\n",
    "driver = webdriver.Chrome(options=options) \n",
    "driver.get('https://www.culture.go.kr/oneeye/oneEyeList.do')\n",
    "\n",
    "\n",
    "a = []\n",
    "for j in range(1,370):\n",
    "    if j == 369: k = 9\n",
    "    else: k = 11\n",
    "    for i in range(1,k):\n",
    "        url = f\"javascript:pagingAjax('?cPage={j}&searchKeywordType=t%27')\"\n",
    "        driver.execute_script(url)\n",
    "        time.sleep(2)\n",
    "        a.append(driver.find_element(By.XPATH, f'//*[@id=\"listContent\"]/div[1]/div[{i}]').text)\n",
    "\n",
    "pd.DataFrame(a).to_csv(\"munhwa.csv\")"
   ]
  }
 ],
 "metadata": {
  "language_info": {
   "name": "python"
  },
  "orig_nbformat": 4
 },
 "nbformat": 4,
 "nbformat_minor": 2
}
