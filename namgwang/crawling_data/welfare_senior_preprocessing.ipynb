{
 "cells": [
  {
   "cell_type": "code",
   "execution_count": 1,
   "id": "2ed9c489",
   "metadata": {},
   "outputs": [],
   "source": [
    "# 모듈 로딩\n",
    "import pandas as pd\n",
    "\n",
    "# 데이터 로딩\n",
    "df = pd.read_csv('./data/노인복지시설현황.csv')"
   ]
  },
  {
   "cell_type": "code",
   "execution_count": 2,
   "id": "ff85291d",
   "metadata": {},
   "outputs": [],
   "source": [
    "# 인덱스 15942 행 제거\n",
    "df = df.drop(15942)"
   ]
  },
  {
   "cell_type": "code",
   "execution_count": 3,
   "id": "797daa94",
   "metadata": {},
   "outputs": [],
   "source": [
    "# '시설유형(대) 컬럼 제거'\n",
    "df = df.drop('시설유형(대)', axis=1)"
   ]
  },
  {
   "cell_type": "code",
   "execution_count": 4,
   "id": "a9fcb3b8",
   "metadata": {},
   "outputs": [
    {
     "data": {
      "text/plain": [
       "시설명         0\n",
       "시도          0\n",
       "시군구        40\n",
       "시설유형(중)     0\n",
       "시설유형(소)     7\n",
       "연락처         0\n",
       "dtype: int64"
      ]
     },
     "execution_count": 4,
     "metadata": {},
     "output_type": "execute_result"
    }
   ],
   "source": [
    "# 결측기 갯수 확인\n",
    "df.isnull().sum()"
   ]
  },
  {
   "cell_type": "code",
   "execution_count": 5,
   "id": "bf0234ca",
   "metadata": {
    "scrolled": false
   },
   "outputs": [],
   "source": [
    "# '시설유형(소)' 컬럼 결측치만 데이터프레임만 추출\n",
    "dd = df[df['시설유형(소)'].isnull()]\n",
    "\n",
    "idx = []  # 결측치 인덱스 담을 리스트\n",
    "value = []  # '시설유형(소)' 결측치 인덱스에 '시설유형(중)' 값 추출하여 담을 리스트\n",
    "\n",
    "for i in dd['시설유형(중)'].index:\n",
    "    idx.append(i)\n",
    "    value.append(dd.loc[i]['시설유형(중)'])"
   ]
  },
  {
   "cell_type": "code",
   "execution_count": 6,
   "id": "20cad0d4",
   "metadata": {},
   "outputs": [],
   "source": [
    "# '시설유형(소)' 결측치에'시설유형(중)' 값 넣기\n",
    "for i, j in enumerate(idx):\n",
    "    df.loc[j]['시설유형(소)'] = value[i]"
   ]
  },
  {
   "cell_type": "code",
   "execution_count": 7,
   "id": "e829245e",
   "metadata": {},
   "outputs": [],
   "source": [
    "# 데이터 프레임 df -> csv 파일로 저장\n",
    "df.to_csv('노인복지시설.csv', index=False)"
   ]
  }
 ],
 "metadata": {
  "kernelspec": {
   "display_name": "Python 3 (ipykernel)",
   "language": "python",
   "name": "python3"
  },
  "language_info": {
   "codemirror_mode": {
    "name": "ipython",
    "version": 3
   },
   "file_extension": ".py",
   "mimetype": "text/x-python",
   "name": "python",
   "nbconvert_exporter": "python",
   "pygments_lexer": "ipython3",
   "version": "3.9.13"
  }
 },
 "nbformat": 4,
 "nbformat_minor": 5
}
