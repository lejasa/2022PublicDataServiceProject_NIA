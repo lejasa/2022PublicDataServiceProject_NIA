{
 "cells": [
  {
   "cell_type": "code",
   "execution_count": 168,
   "id": "e52b7bda",
   "metadata": {},
   "outputs": [],
   "source": [
    "# 모듈 로딩\n",
    "import pandas as pd\n",
    "\n",
    "# 파일 로딩\n",
    "df = pd.read_csv('./data/건강생활지원센터.csv', encoding='cp949')"
   ]
  },
  {
   "cell_type": "code",
   "execution_count": 169,
   "id": "c9872234",
   "metadata": {},
   "outputs": [
    {
     "data": {
      "text/plain": [
       "Index(['건강생활지원센터명', '건강생활지원센터 유형', '소재지도로명주소', '위도', '경도', '운영시작시각', '운영종료시각',\n",
       "       '휴무일정보', '건강증진사업내용', '기타이용안내', '의사수', '간호사수', '영양사수', '신체활동전문인력수',\n",
       "       '물리/작업치료사수', '사회복지사수', '간호조무사수', '기타인력현황', '건강검진장비현황', '체력측정장비현황',\n",
       "       '운동장비현황', '금연사업장비현황', '영양사업장비현황', '절주사업장비현황', '재활사업장비현황', '기타보건교육장비현황',\n",
       "       '감염병예방장비현황', '운영기관전화번호', '관리기관명', '데이터기준일자', '제공기관코드', '제공기관명'],\n",
       "      dtype='object')"
      ]
     },
     "execution_count": 169,
     "metadata": {},
     "output_type": "execute_result"
    }
   ],
   "source": [
    "# 컬럼명 확인\n",
    "df.columns"
   ]
  },
  {
   "cell_type": "code",
   "execution_count": 170,
   "id": "041aa166",
   "metadata": {},
   "outputs": [],
   "source": [
    "# 필요 없는 컬럼 제거\n",
    "df = df.drop(['건강생활지원센터 유형','운영시작시각','운영종료시각','휴무일정보','의사수','간호사수','영양사수','신체활동전문인력수','물리/작업치료사수','사회복지사수','간호조무사수','기타인력현황','기타보건교육장비현황','감염병예방장비현황','관리기관명','데이터기준일자','제공기관코드','제공기관명','기타이용안내'], axis=1)"
   ]
  },
  {
   "cell_type": "code",
   "execution_count": 171,
   "id": "9d7d4438",
   "metadata": {
    "collapsed": true
   },
   "outputs": [
    {
     "name": "stderr",
     "output_type": "stream",
     "text": [
      "C:\\Users\\USER\\AppData\\Local\\Temp\\ipykernel_14892\\1445617447.py:2: SettingWithCopyWarning: \n",
      "A value is trying to be set on a copy of a slice from a DataFrame\n",
      "\n",
      "See the caveats in the documentation: https://pandas.pydata.org/pandas-docs/stable/user_guide/indexing.html#returning-a-view-versus-a-copy\n",
      "  df.건강증진사업내용[i] = df.건강증진사업내용[i].replace('+',', ')\n"
     ]
    }
   ],
   "source": [
    "# '+' -> ', ' 로 바꾸기\n",
    "for i in df.건강증진사업내용.index:\n",
    "    df.건강증진사업내용[i] = df.건강증진사업내용[i].replace('+',', ')"
   ]
  },
  {
   "cell_type": "code",
   "execution_count": 172,
   "id": "d9fbc811",
   "metadata": {
    "collapsed": true
   },
   "outputs": [
    {
     "name": "stderr",
     "output_type": "stream",
     "text": [
      "C:\\Users\\USER\\AppData\\Local\\Temp\\ipykernel_14892\\1445617447.py:2: SettingWithCopyWarning: \n",
      "A value is trying to be set on a copy of a slice from a DataFrame\n",
      "\n",
      "See the caveats in the documentation: https://pandas.pydata.org/pandas-docs/stable/user_guide/indexing.html#returning-a-view-versus-a-copy\n",
      "  df.건강증진사업내용[i] = df.건강증진사업내용[i].replace('+',', ')\n"
     ]
    }
   ],
   "source": [
    "for i in df.건강증진사업내용.index:\n",
    "    df.건강증진사업내용[i] = df.건강증진사업내용[i].replace('+',', ')"
   ]
  },
  {
   "cell_type": "code",
   "execution_count": 173,
   "id": "b4dc00d1",
   "metadata": {
    "collapsed": true
   },
   "outputs": [
    {
     "name": "stderr",
     "output_type": "stream",
     "text": [
      "C:\\Users\\USER\\AppData\\Local\\Temp\\ipykernel_14892\\3608729796.py:2: SettingWithCopyWarning: \n",
      "A value is trying to be set on a copy of a slice from a DataFrame\n",
      "\n",
      "See the caveats in the documentation: https://pandas.pydata.org/pandas-docs/stable/user_guide/indexing.html#returning-a-view-versus-a-copy\n",
      "  df.건강검진장비현황[i] = df.건강검진장비현황[i].replace('+',', ')\n"
     ]
    }
   ],
   "source": [
    "for i in df.건강검진장비현황.index:\n",
    "    df.건강검진장비현황[i] = df.건강검진장비현황[i].replace('+',', ')"
   ]
  },
  {
   "cell_type": "code",
   "execution_count": 174,
   "id": "d03f348d",
   "metadata": {
    "collapsed": true
   },
   "outputs": [
    {
     "name": "stderr",
     "output_type": "stream",
     "text": [
      "C:\\Users\\USER\\AppData\\Local\\Temp\\ipykernel_14892\\3303587773.py:2: SettingWithCopyWarning: \n",
      "A value is trying to be set on a copy of a slice from a DataFrame\n",
      "\n",
      "See the caveats in the documentation: https://pandas.pydata.org/pandas-docs/stable/user_guide/indexing.html#returning-a-view-versus-a-copy\n",
      "  df.체력측정장비현황[i] = df.체력측정장비현황[i].replace('+',', ')\n"
     ]
    }
   ],
   "source": [
    "for i in df.체력측정장비현황.index:\n",
    "    df.체력측정장비현황[i] = df.체력측정장비현황[i].replace('+',', ')"
   ]
  },
  {
   "cell_type": "code",
   "execution_count": 175,
   "id": "ae076e83",
   "metadata": {
    "collapsed": true
   },
   "outputs": [
    {
     "name": "stderr",
     "output_type": "stream",
     "text": [
      "C:\\Users\\USER\\AppData\\Local\\Temp\\ipykernel_14892\\3977917425.py:2: SettingWithCopyWarning: \n",
      "A value is trying to be set on a copy of a slice from a DataFrame\n",
      "\n",
      "See the caveats in the documentation: https://pandas.pydata.org/pandas-docs/stable/user_guide/indexing.html#returning-a-view-versus-a-copy\n",
      "  df.운동장비현황[i] = df.운동장비현황[i].replace('+',', ')\n"
     ]
    }
   ],
   "source": [
    "for i in df.운동장비현황.index:\n",
    "    df.운동장비현황[i] = df.운동장비현황[i].replace('+',', ')"
   ]
  },
  {
   "cell_type": "code",
   "execution_count": 176,
   "id": "2e1899c5",
   "metadata": {
    "collapsed": true
   },
   "outputs": [
    {
     "name": "stderr",
     "output_type": "stream",
     "text": [
      "C:\\Users\\USER\\AppData\\Local\\Temp\\ipykernel_14892\\559226567.py:2: SettingWithCopyWarning: \n",
      "A value is trying to be set on a copy of a slice from a DataFrame\n",
      "\n",
      "See the caveats in the documentation: https://pandas.pydata.org/pandas-docs/stable/user_guide/indexing.html#returning-a-view-versus-a-copy\n",
      "  df.금연사업장비현황[i] = df.금연사업장비현황[i].replace('+',', ')\n"
     ]
    }
   ],
   "source": [
    "for i in df.금연사업장비현황.index:\n",
    "    df.금연사업장비현황[i] = df.금연사업장비현황[i].replace('+',', ')"
   ]
  },
  {
   "cell_type": "code",
   "execution_count": 177,
   "id": "2a216324",
   "metadata": {
    "collapsed": true
   },
   "outputs": [
    {
     "name": "stderr",
     "output_type": "stream",
     "text": [
      "C:\\Users\\USER\\AppData\\Local\\Temp\\ipykernel_14892\\3405008377.py:2: SettingWithCopyWarning: \n",
      "A value is trying to be set on a copy of a slice from a DataFrame\n",
      "\n",
      "See the caveats in the documentation: https://pandas.pydata.org/pandas-docs/stable/user_guide/indexing.html#returning-a-view-versus-a-copy\n",
      "  df.영양사업장비현황[i] = df.영양사업장비현황[i].replace('+',', ')\n"
     ]
    }
   ],
   "source": [
    "for i in df.영양사업장비현황.index:\n",
    "    df.영양사업장비현황[i] = df.영양사업장비현황[i].replace('+',', ')"
   ]
  },
  {
   "cell_type": "code",
   "execution_count": 178,
   "id": "094b89fe",
   "metadata": {
    "collapsed": true
   },
   "outputs": [
    {
     "name": "stderr",
     "output_type": "stream",
     "text": [
      "C:\\Users\\USER\\AppData\\Local\\Temp\\ipykernel_14892\\2825298066.py:2: SettingWithCopyWarning: \n",
      "A value is trying to be set on a copy of a slice from a DataFrame\n",
      "\n",
      "See the caveats in the documentation: https://pandas.pydata.org/pandas-docs/stable/user_guide/indexing.html#returning-a-view-versus-a-copy\n",
      "  df.절주사업장비현황[i] = df.절주사업장비현황[i].replace('+',', ')\n"
     ]
    }
   ],
   "source": [
    "for i in df.절주사업장비현황.index:\n",
    "    df.절주사업장비현황[i] = df.절주사업장비현황[i].replace('+',', ')"
   ]
  },
  {
   "cell_type": "code",
   "execution_count": 179,
   "id": "818dfef7",
   "metadata": {
    "collapsed": true
   },
   "outputs": [
    {
     "name": "stderr",
     "output_type": "stream",
     "text": [
      "C:\\Users\\USER\\AppData\\Local\\Temp\\ipykernel_14892\\706346051.py:2: SettingWithCopyWarning: \n",
      "A value is trying to be set on a copy of a slice from a DataFrame\n",
      "\n",
      "See the caveats in the documentation: https://pandas.pydata.org/pandas-docs/stable/user_guide/indexing.html#returning-a-view-versus-a-copy\n",
      "  df.재활사업장비현황[i] = df.재활사업장비현황[i].replace('+',', ')\n"
     ]
    }
   ],
   "source": [
    "for i in df.재활사업장비현황.index:\n",
    "    df.재활사업장비현황[i] = df.재활사업장비현황[i].replace('+',', ')"
   ]
  },
  {
   "cell_type": "code",
   "execution_count": 167,
   "id": "e6d7d7f3",
   "metadata": {},
   "outputs": [],
   "source": [
    "# 데이터프레임 df -> csv 파일로 저장\n",
    "df.to_csv('건강생활최종.csv', index=False)"
   ]
  }
 ],
 "metadata": {
  "kernelspec": {
   "display_name": "Python 3 (ipykernel)",
   "language": "python",
   "name": "python3"
  },
  "language_info": {
   "codemirror_mode": {
    "name": "ipython",
    "version": 3
   },
   "file_extension": ".py",
   "mimetype": "text/x-python",
   "name": "python",
   "nbconvert_exporter": "python",
   "pygments_lexer": "ipython3",
   "version": "3.9.13"
  }
 },
 "nbformat": 4,
 "nbformat_minor": 5
}
