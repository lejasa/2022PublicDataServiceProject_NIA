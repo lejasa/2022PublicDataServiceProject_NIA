{
 "cells": [
  {
   "cell_type": "code",
   "execution_count": 1,
   "id": "db27936e",
   "metadata": {},
   "outputs": [],
   "source": [
    "# 모듈 로딩\n",
    "import pandas as pd\n",
    "\n",
    "# 건강 증진 센터 데이터 로딩\n",
    "df = pd.read_csv('./data/건강증진센터.csv', encoding='cp949')"
   ]
  },
  {
   "cell_type": "code",
   "execution_count": 2,
   "id": "452df768",
   "metadata": {},
   "outputs": [
    {
     "data": {
      "text/plain": [
       "Index(['건강증진센터명', '건강증진센터구분', '소재지도로명주소', '소재지지번주소', '위도', '경도', '건강증진업무내용',\n",
       "       '운영시작시각', '운영종료시각', '휴무일정보', '건물면적', '의사수', '간호사수', '사회복지사수', '영양사수',\n",
       "       '기타인력현황', '기타이용안내', '운영기관전화번호', '운영기관명', '관리기관전화번호', '관리기관명', '데이터기준일자',\n",
       "       '제공기관코드', '제공기관명'],\n",
       "      dtype='object')"
      ]
     },
     "execution_count": 2,
     "metadata": {},
     "output_type": "execute_result"
    }
   ],
   "source": [
    "# 데이터 컬럼명 확인\n",
    "df.columns"
   ]
  },
  {
   "cell_type": "code",
   "execution_count": 3,
   "id": "a13047ae",
   "metadata": {},
   "outputs": [],
   "source": [
    "# 필요 없는 컬럼 삭제\n",
    "df = df.drop(['소재지지번주소','운영시작시각','운영종료시각','휴무일정보','건물면적','의사수','간호사수','사회복지사수','영양사수','기타인력현황','기타이용안내','운영기관명','관리기관전화번호','관리기관명','데이터기준일자','제공기관코드','제공기관명'],axis=1)"
   ]
  },
  {
   "cell_type": "code",
   "execution_count": 4,
   "id": "073083b6",
   "metadata": {},
   "outputs": [
    {
     "name": "stderr",
     "output_type": "stream",
     "text": [
      "C:\\Users\\USER\\AppData\\Local\\Temp\\ipykernel_11064\\3449526074.py:3: SettingWithCopyWarning: \n",
      "A value is trying to be set on a copy of a slice from a DataFrame\n",
      "\n",
      "See the caveats in the documentation: https://pandas.pydata.org/pandas-docs/stable/user_guide/indexing.html#returning-a-view-versus-a-copy\n",
      "  df.건강증진업무내용[i] = df.건강증진업무내용[i].replace('+',', ')\n"
     ]
    }
   ],
   "source": [
    "# '+' -> ', ' 으로 바꾸기\n",
    "for i in df.건강증진업무내용.index:\n",
    "    df.건강증진업무내용[i] = df.건강증진업무내용[i].replace('+',', ')"
   ]
  },
  {
   "cell_type": "code",
   "execution_count": 5,
   "id": "3b1ff9ac",
   "metadata": {
    "scrolled": true
   },
   "outputs": [
    {
     "data": {
      "text/html": [
       "<div>\n",
       "<style scoped>\n",
       "    .dataframe tbody tr th:only-of-type {\n",
       "        vertical-align: middle;\n",
       "    }\n",
       "\n",
       "    .dataframe tbody tr th {\n",
       "        vertical-align: top;\n",
       "    }\n",
       "\n",
       "    .dataframe thead th {\n",
       "        text-align: right;\n",
       "    }\n",
       "</style>\n",
       "<table border=\"1\" class=\"dataframe\">\n",
       "  <thead>\n",
       "    <tr style=\"text-align: right;\">\n",
       "      <th></th>\n",
       "      <th>건강증진센터명</th>\n",
       "      <th>건강증진센터구분</th>\n",
       "      <th>소재지도로명주소</th>\n",
       "      <th>위도</th>\n",
       "      <th>경도</th>\n",
       "      <th>건강증진업무내용</th>\n",
       "      <th>운영기관전화번호</th>\n",
       "    </tr>\n",
       "  </thead>\n",
       "  <tbody>\n",
       "    <tr>\n",
       "      <th>0</th>\n",
       "      <td>가거도건강증진센터</td>\n",
       "      <td>건강증진</td>\n",
       "      <td>전라남도 신안군 흑산면 가거도길 36</td>\n",
       "      <td>34.052388</td>\n",
       "      <td>125.126634</td>\n",
       "      <td>의과, 치과, 한의과 진료</td>\n",
       "      <td>061-246-3585</td>\n",
       "    </tr>\n",
       "    <tr>\n",
       "      <th>1</th>\n",
       "      <td>홍도건강증진센터</td>\n",
       "      <td>건강증진</td>\n",
       "      <td>전라남도 신안군 흑산면 홍도 1길 32</td>\n",
       "      <td>34.683153</td>\n",
       "      <td>125.191718</td>\n",
       "      <td>의과, 치과, 한의과 진료</td>\n",
       "      <td>061-246-3701</td>\n",
       "    </tr>\n",
       "    <tr>\n",
       "      <th>2</th>\n",
       "      <td>장계면건강생활지원센터</td>\n",
       "      <td>건강증진</td>\n",
       "      <td>전라북도 장수군 장계면 한들로 124</td>\n",
       "      <td>35.731131</td>\n",
       "      <td>127.585675</td>\n",
       "      <td>만성질환예방및건강한생활습관 형성 지원</td>\n",
       "      <td>063-352-8700</td>\n",
       "    </tr>\n",
       "    <tr>\n",
       "      <th>3</th>\n",
       "      <td>남동구정신건강복지센터</td>\n",
       "      <td>정신보건</td>\n",
       "      <td>인천광역시 남동구 인주대로 819, 6층</td>\n",
       "      <td>37.448838</td>\n",
       "      <td>126.728235</td>\n",
       "      <td>만성정신질환관리사업, 정신건강증진사업, 아동청소년정신건강사업, 자살예방사업</td>\n",
       "      <td>032-465-6412</td>\n",
       "    </tr>\n",
       "    <tr>\n",
       "      <th>4</th>\n",
       "      <td>시흥시정신건강복지센터</td>\n",
       "      <td>정신보건</td>\n",
       "      <td>경기도 시흥시 호현로 55</td>\n",
       "      <td>37.445584</td>\n",
       "      <td>126.785296</td>\n",
       "      <td>생애주기별 정신건강증진사업/정신장애인관리사업/자살예방사업</td>\n",
       "      <td>031-316-6661</td>\n",
       "    </tr>\n",
       "    <tr>\n",
       "      <th>...</th>\n",
       "      <td>...</td>\n",
       "      <td>...</td>\n",
       "      <td>...</td>\n",
       "      <td>...</td>\n",
       "      <td>...</td>\n",
       "      <td>...</td>\n",
       "      <td>...</td>\n",
       "    </tr>\n",
       "    <tr>\n",
       "      <th>296</th>\n",
       "      <td>U_만성질환관리센터(동탄)</td>\n",
       "      <td>건강증진</td>\n",
       "      <td>경기도 화성시 노작로 226-9</td>\n",
       "      <td>37.207070</td>\n",
       "      <td>127.078601</td>\n",
       "      <td>고혈압_당뇨병_이상지질혈증_비만_비약물관리</td>\n",
       "      <td>031-5189-4374</td>\n",
       "    </tr>\n",
       "    <tr>\n",
       "      <th>297</th>\n",
       "      <td>U_만성질환관리센터(기배)</td>\n",
       "      <td>건강증진</td>\n",
       "      <td>경기도 화성시 기안남로 62</td>\n",
       "      <td>37.224335</td>\n",
       "      <td>126.984636</td>\n",
       "      <td>고혈압_당뇨병_이상지질혈증_비만_비약물관리</td>\n",
       "      <td>031-5189-4491</td>\n",
       "    </tr>\n",
       "    <tr>\n",
       "      <th>298</th>\n",
       "      <td>U_만성질환관리센터(봉담)</td>\n",
       "      <td>건강증진</td>\n",
       "      <td>경기도 화성시 봉담읍 동화새터길 109</td>\n",
       "      <td>37.217054</td>\n",
       "      <td>126.961105</td>\n",
       "      <td>고혈압_당뇨병_이상지질혈증_비만_비약물관리</td>\n",
       "      <td>031-5189-6253</td>\n",
       "    </tr>\n",
       "    <tr>\n",
       "      <th>299</th>\n",
       "      <td>U_만성질환관리센터(정남)</td>\n",
       "      <td>건강증진</td>\n",
       "      <td>경기도 화성시 정남면 서봉로 998</td>\n",
       "      <td>37.160273</td>\n",
       "      <td>126.971110</td>\n",
       "      <td>고혈압_당뇨병_이상지질혈증_비만_비약물관리</td>\n",
       "      <td>031-5189-4481</td>\n",
       "    </tr>\n",
       "    <tr>\n",
       "      <th>300</th>\n",
       "      <td>웰빙건강클리닉센터(우정)</td>\n",
       "      <td>건강증진</td>\n",
       "      <td>경기도 화성시 우정읍 쌍봉로 109-14</td>\n",
       "      <td>37.089826</td>\n",
       "      <td>126.815360</td>\n",
       "      <td>생애주기별_신체활동프로그램_제공</td>\n",
       "      <td>031-5189-6413</td>\n",
       "    </tr>\n",
       "  </tbody>\n",
       "</table>\n",
       "<p>301 rows × 7 columns</p>\n",
       "</div>"
      ],
      "text/plain": [
       "            건강증진센터명 건강증진센터구분                소재지도로명주소         위도          경도  \\\n",
       "0         가거도건강증진센터     건강증진    전라남도 신안군 흑산면 가거도길 36  34.052388  125.126634   \n",
       "1          홍도건강증진센터     건강증진   전라남도 신안군 흑산면 홍도 1길 32  34.683153  125.191718   \n",
       "2       장계면건강생활지원센터     건강증진    전라북도 장수군 장계면 한들로 124  35.731131  127.585675   \n",
       "3       남동구정신건강복지센터     정신보건  인천광역시 남동구 인주대로 819, 6층  37.448838  126.728235   \n",
       "4       시흥시정신건강복지센터     정신보건          경기도 시흥시 호현로 55  37.445584  126.785296   \n",
       "..              ...      ...                     ...        ...         ...   \n",
       "296  U_만성질환관리센터(동탄)     건강증진       경기도 화성시 노작로 226-9  37.207070  127.078601   \n",
       "297  U_만성질환관리센터(기배)     건강증진         경기도 화성시 기안남로 62  37.224335  126.984636   \n",
       "298  U_만성질환관리센터(봉담)     건강증진   경기도 화성시 봉담읍 동화새터길 109  37.217054  126.961105   \n",
       "299  U_만성질환관리센터(정남)     건강증진     경기도 화성시 정남면 서봉로 998  37.160273  126.971110   \n",
       "300   웰빙건강클리닉센터(우정)     건강증진  경기도 화성시 우정읍 쌍봉로 109-14  37.089826  126.815360   \n",
       "\n",
       "                                      건강증진업무내용       운영기관전화번호  \n",
       "0                               의과, 치과, 한의과 진료   061-246-3585  \n",
       "1                               의과, 치과, 한의과 진료   061-246-3701  \n",
       "2                         만성질환예방및건강한생활습관 형성 지원   063-352-8700  \n",
       "3    만성정신질환관리사업, 정신건강증진사업, 아동청소년정신건강사업, 자살예방사업   032-465-6412  \n",
       "4              생애주기별 정신건강증진사업/정신장애인관리사업/자살예방사업   031-316-6661  \n",
       "..                                         ...            ...  \n",
       "296                    고혈압_당뇨병_이상지질혈증_비만_비약물관리  031-5189-4374  \n",
       "297                    고혈압_당뇨병_이상지질혈증_비만_비약물관리  031-5189-4491  \n",
       "298                    고혈압_당뇨병_이상지질혈증_비만_비약물관리  031-5189-6253  \n",
       "299                    고혈압_당뇨병_이상지질혈증_비만_비약물관리  031-5189-4481  \n",
       "300                          생애주기별_신체활동프로그램_제공  031-5189-6413  \n",
       "\n",
       "[301 rows x 7 columns]"
      ]
     },
     "execution_count": 5,
     "metadata": {},
     "output_type": "execute_result"
    }
   ],
   "source": [
    "# df -> 변수 df1에 저장\n",
    "df1=df\n",
    "df1"
   ]
  },
  {
   "cell_type": "code",
   "execution_count": 6,
   "id": "8d207243",
   "metadata": {
    "scrolled": true
   },
   "outputs": [
    {
     "data": {
      "text/plain": [
       "Index(['건강생활지원센터명', '소재지도로명주소', '위도', '경도', '건강증진사업내용', '건강검진장비현황', '체력측정장비현황',\n",
       "       '운동장비현황', '금연사업장비현황', '영양사업장비현황', '절주사업장비현황', '재활사업장비현황', '운영기관전화번호'],\n",
       "      dtype='object')"
      ]
     },
     "execution_count": 6,
     "metadata": {},
     "output_type": "execute_result"
    }
   ],
   "source": [
    "# 건강 생활 지원 센터 데이터 로딩\n",
    "df2 = pd.read_csv('../건강생활지원센터/건강생활최종.csv')\n",
    "\n",
    "# 컬럼명 확인\n",
    "df2.columns"
   ]
  },
  {
   "cell_type": "code",
   "execution_count": 7,
   "id": "52c57483",
   "metadata": {},
   "outputs": [],
   "source": [
    "# 컬럼명 바꾸기 '건강증진사업내용' -> '건강증진업무내용'\n",
    "df2 = df2.rename(columns={'건강증진사업내용':'건강증진업무내용','건강생활지원센터명':'건강증진센터명'})"
   ]
  },
  {
   "cell_type": "code",
   "execution_count": 8,
   "id": "f8c36fb5",
   "metadata": {},
   "outputs": [],
   "source": [
    "# 필요 없는 컬럼 제거\n",
    "df2 = df2.drop(['건강검진장비현황','체력측정장비현황','운동장비현황','금연사업장비현황','영양사업장비현황','절주사업장비현황','재활사업장비현황'],axis=1)"
   ]
  },
  {
   "cell_type": "markdown",
   "id": "716a73ac",
   "metadata": {},
   "source": [
    "### 병합"
   ]
  },
  {
   "cell_type": "code",
   "execution_count": 9,
   "id": "4b9f95a9",
   "metadata": {
    "scrolled": false
   },
   "outputs": [],
   "source": [
    "# 병합\n",
    "DF = pd.merge(df1, df2, how='outer', on=['건강증진센터명','위도','경도','소재지도로명주소','운영기관전화번호','건강증진업무내용'])"
   ]
  },
  {
   "cell_type": "code",
   "execution_count": 10,
   "id": "6d08dade",
   "metadata": {},
   "outputs": [],
   "source": [
    "# \"건강증진센터구분\" 결측치 -> '건강생활지원' 채우기\n",
    "DF.건강증진센터구분 = DF.건강증진센터구분.fillna('건강생활지원')"
   ]
  },
  {
   "cell_type": "code",
   "execution_count": 11,
   "id": "88ada4e4",
   "metadata": {},
   "outputs": [],
   "source": [
    "# 인덱스 123 행 제거\n",
    "DF = DF.drop(123)"
   ]
  },
  {
   "cell_type": "code",
   "execution_count": 12,
   "id": "ed07ea4a",
   "metadata": {
    "scrolled": true
   },
   "outputs": [],
   "source": [
    "# '소재지도로명주소' 값 변경\n",
    "value={'전주시 덕진구 정여립로 1115, 4층':'전라북도 진주시 덕진구 정여립로 1115, 4층'}\n",
    "\n",
    "DF['소재지도로명주소'] = DF['소재지도로명주소'].apply(lambda v: value.get(v, v))"
   ]
  },
  {
   "cell_type": "code",
   "execution_count": 13,
   "id": "2b36ee78",
   "metadata": {},
   "outputs": [],
   "source": [
    "# 인덱스 초기화\n",
    "DF = DF.reset_index(drop=True)"
   ]
  },
  {
   "cell_type": "code",
   "execution_count": 14,
   "id": "f7906227",
   "metadata": {},
   "outputs": [],
   "source": [
    "# 소재지도로명주소를 시도와 시군구로 따로 담기\n",
    "sd = []  # 시도 담을 리스트\n",
    "sgg = []  # 시군구 담을 리스트\n",
    "\n",
    "for idx in DF.소재지도로명주소.index:\n",
    "    sd.append(DF.소재지도로명주소[idx].split()[0])\n",
    "    sgg.append(DF.소재지도로명주소[idx].split()[1])"
   ]
  },
  {
   "cell_type": "code",
   "execution_count": 15,
   "id": "9b1e49ba",
   "metadata": {},
   "outputs": [],
   "source": [
    "# '소재지도로명주소' 값 변경\n",
    "addr = {'경북':'경상북도','부산':'부산광역시'}\n",
    "\n",
    "DF['소재지도로명주소']=DF['소재지도로명주소'].apply(lambda v: addr.get(v, v))"
   ]
  },
  {
   "cell_type": "code",
   "execution_count": 16,
   "id": "c85f27ec",
   "metadata": {},
   "outputs": [],
   "source": [
    "# '시도' 컬럼 삽입\n",
    "DF.insert(0, '시도', sd)"
   ]
  },
  {
   "cell_type": "code",
   "execution_count": 17,
   "id": "5a9a41c3",
   "metadata": {},
   "outputs": [],
   "source": [
    "# '시군구' 컬럼 삽입\n",
    "DF.insert(1, '시군구', sgg)"
   ]
  },
  {
   "cell_type": "code",
   "execution_count": 18,
   "id": "78ce5e66",
   "metadata": {},
   "outputs": [],
   "source": [
    "# 데이터 프레임 DF -> csv 파일로 저장\n",
    "DF.to_csv('건강생활및증진.csv', index=False)"
   ]
  }
 ],
 "metadata": {
  "kernelspec": {
   "display_name": "Python 3 (ipykernel)",
   "language": "python",
   "name": "python3"
  },
  "language_info": {
   "codemirror_mode": {
    "name": "ipython",
    "version": 3
   },
   "file_extension": ".py",
   "mimetype": "text/x-python",
   "name": "python",
   "nbconvert_exporter": "python",
   "pygments_lexer": "ipython3",
   "version": "3.9.13"
  }
 },
 "nbformat": 4,
 "nbformat_minor": 5
}
