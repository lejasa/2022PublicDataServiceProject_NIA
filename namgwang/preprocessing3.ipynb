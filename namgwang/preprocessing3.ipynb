{
 "cells": [
  {
   "cell_type": "markdown",
   "metadata": {},
   "source": [
    "## 카카오 API 이용해서 주소 -> 좌표 변환"
   ]
  },
  {
   "cell_type": "code",
   "execution_count": 54,
   "metadata": {},
   "outputs": [
    {
     "name": "stdout",
     "output_type": "stream",
     "text": [
      "{'위도': '37.4749858710793', '경도': '126.984374415887'}\n"
     ]
    }
   ],
   "source": [
    "# 카카오API(admin키)를 사용하여 주소->좌표 변환\n",
    "import requests, json\n",
    "\n",
    "def get_location(address):\n",
    "  url = 'https://dapi.kakao.com/v2/local/search/address.json?query=' + address\n",
    "  # 'KaKaoAK '는 그대로 두시고 개인키만 지우고 입력해 주세요.\n",
    "  # ex KakaoAK 6af8d4826f0e56c54bc794fa8a294\n",
    "  headers = {\"Authorization\": \"개인 api 키\"}\n",
    "  api_json = json.loads(str(requests.get(url,headers=headers).text))\n",
    "  if len(api_json['documents']) == 0:\n",
    "    return {'위도': 0, '경도': 0}\n",
    "  else:\n",
    "    address = api_json['documents'][0]['address']\n",
    "    crd = {\"위도\": str(address['y']), \"경도\": str(address['x'])}\n",
    "    address_name = address['address_name']\n",
    "\n",
    "    return crd\n",
    "\n",
    "crd = get_location(\"서울특별시 서초구 남부순환로 2124\")\n",
    "print(crd)"
   ]
  },
  {
   "cell_type": "code",
   "execution_count": 57,
   "metadata": {},
   "outputs": [],
   "source": [
    "import pandas as pd\n",
    "df = pd.read_csv(\"./crawling_data/지역별디지털배움터.csv\")\n",
    "lat, lng = [], []\n",
    "for i in df[\"장소/위치\"]:\n",
    "    addr = get_location(i)\n",
    "    lat.append(addr[\"위도\"])\n",
    "    lng.append(addr[\"경도\"])"
   ]
  },
  {
   "cell_type": "code",
   "execution_count": 60,
   "metadata": {},
   "outputs": [],
   "source": [
    "df[\"위도\"] = pd.Series(lat)\n",
    "df[\"경도\"] = pd.Series(lng)"
   ]
  },
  {
   "cell_type": "code",
   "execution_count": 35,
   "metadata": {},
   "outputs": [],
   "source": [
    "df.to_csv(\"./data/지역별디지털배움터.csv\", index=0)"
   ]
  }
 ],
 "metadata": {
  "kernelspec": {
   "display_name": "Python 3.9.13 ('EV_PY39')",
   "language": "python",
   "name": "python3"
  },
  "language_info": {
   "codemirror_mode": {
    "name": "ipython",
    "version": 3
   },
   "file_extension": ".py",
   "mimetype": "text/x-python",
   "name": "python",
   "nbconvert_exporter": "python",
   "pygments_lexer": "ipython3",
   "version": "3.9.13"
  },
  "orig_nbformat": 4,
  "vscode": {
   "interpreter": {
    "hash": "d1dde8d3f1fc6169eb2afb9c884f1482ff31994a855398e316a83a9dc8ff488b"
   }
  }
 },
 "nbformat": 4,
 "nbformat_minor": 2
}
