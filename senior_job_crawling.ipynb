{
 "cells": [
  {
   "cell_type": "code",
   "execution_count": 1,
   "metadata": {},
   "outputs": [
    {
     "name": "stdout",
     "output_type": "stream",
     "text": [
      "[('대구광역시', '남구'), ('대구광역시', '달서구'), ('대구광역시', '달성군'), ('대구광역시', '동구'), ('대구광역시', '북구'), ('대구광역시', '서구'), ('대구광역시', '수성구'), ('대구광역시', '중구'), ('대구광역시', '직속')]\n"
     ]
    }
   ],
   "source": [
    "# print(text.split('\\n'))\n",
    "\n",
    "text = ['대구광역시 남구', '대구광역시 달서구', '대구광역시 달성군', '대구광역시 동구', '대구광역시 북구', '대구광역시 서구', '대구광역시 수성구', '대구광역시 중구', '대구광역시 직속']\n",
    "        \n",
    "\n",
    "texts=[]\n",
    "for txt in text:\n",
    "    a = []\n",
    "    a.append(txt.split()[0])\n",
    "    a.append(' '.join(txt.split()[1:]))\n",
    "\n",
    "    texts.append(tuple(a))\n",
    "\n",
    "print(texts)"
   ]
  },
  {
   "cell_type": "code",
   "execution_count": 2,
   "metadata": {},
   "outputs": [
    {
     "ename": "ModuleNotFoundError",
     "evalue": "No module named 'selenium'",
     "output_type": "error",
     "traceback": [
      "\u001b[1;31m---------------------------------------------------------------------------\u001b[0m",
      "\u001b[1;31mModuleNotFoundError\u001b[0m                       Traceback (most recent call last)",
      "Cell \u001b[1;32mIn [2], line 2\u001b[0m\n\u001b[0;32m      1\u001b[0m \u001b[39m# 페이지 수 뽑기\u001b[39;00m\n\u001b[1;32m----> 2\u001b[0m \u001b[39mfrom\u001b[39;00m \u001b[39mselenium\u001b[39;00m \u001b[39mimport\u001b[39;00m webdriver\n\u001b[0;32m      3\u001b[0m \u001b[39mfrom\u001b[39;00m \u001b[39mbs4\u001b[39;00m \u001b[39mimport\u001b[39;00m BeautifulSoup\n\u001b[0;32m      4\u001b[0m \u001b[39mimport\u001b[39;00m \u001b[39mre\u001b[39;00m\n",
      "\u001b[1;31mModuleNotFoundError\u001b[0m: No module named 'selenium'"
     ]
    }
   ],
   "source": [
    "# 페이지 수 뽑기\n",
    "from selenium import webdriver\n",
    "from bs4 import BeautifulSoup\n",
    "import re\n",
    "import time\n",
    "\n",
    "driver = webdriver.Chrome('C:/Users/User/Desktop/chromedriver')\n",
    "driver.get('https://www.seniorro.or.kr:4431/seniorro/main/main.do')\n",
    "time.sleep(3)\n",
    "\n",
    "a=[]  # 지역 및 시군구 담을 리스트\n",
    "b=[]  # 기업명 담을 리스트\n",
    "c=[]  # 접수예정, 마감 담을 리스트\n",
    "d=[]  # 주소 담을 리스트\n",
    "e=[]  # 연락처 담을 리스트\n",
    "f=[]  # 구인사항 담을 리스트\n",
    "g=[]  # 접수마감일자 담을 리스트\n",
    "\n",
    "\n",
    "page_num = [0]*len(texts)\n",
    "for idx in range(len(texts)):\n",
    "\n",
    "    driver = webdriver.Chrome('C:/Users/User/Desktop/chromedriver')\n",
    "    driver.get('https://www.seniorro.or.kr:4431/seniorro/main/main.do')\n",
    "    time.sleep(3)\n",
    "    \n",
    "    driver.execute_script(f\"jobSearchAct02{texts[idx]}\")\n",
    "    time.sleep(3)\n",
    "    html=driver.page_source\n",
    "    soup=BeautifulSoup(html, 'html.parser')\n",
    "    div = soup.find('div',{'id':'paging02'})\n",
    "\n",
    "    try:\n",
    "        page_num[idx] = int(re.sub(r'[^0-9]', '', div.find_all('a')[-1]['href']))\n",
    " \n",
    "    except:\n",
    "        page_num[idx] = 0\n",
    "\n",
    "    for nums in page_num:\n",
    "        for num in range(1, nums+1):\n",
    "\n",
    "            time.sleep(3)\n",
    "            driver.execute_script(f\"javascript:jobList({str(num)},'')\")\n",
    "            # 해당 페이지 주소들 뽑기\n",
    "            ul = soup.find('ul',{'id':'rsList02'})\n",
    "\n",
    "            for i in ul.find_all('a'):\n",
    "                url = i['href']\n",
    "\n",
    "                # 원하는 자료 추출\n",
    "                driver.execute_script(url)\n",
    "                time.sleep(5)\n",
    "\n",
    "                html=driver.page_source\n",
    "                soup=BeautifulSoup(html, 'html.parser')\n",
    "\n",
    "                ul = soup.find('div',{'id':'detailDiv'})\n",
    "                \n",
    "                try:    \n",
    "                    a.append(' '.join(texts[idx]))  # 지역 및 시군구\n",
    "                    b.append(ul.find('span',{'id':'dJobAnnounNm'}).text)  # 기업명\n",
    "                    c.append(ul.find('span',{'id':'dDeadLine'}).text)  # 접수예정, 마감\n",
    "                    d.append(ul.find('strong',{'id':'dAddr'}).text)  # 주소\n",
    "                    e.append(ul.find('strong',{'id':'dTelNo'}).text)  # 연락처\n",
    "                    f.append(ul.find('dd',{'id':'dDetCnts'}).text)   # 구인사항\n",
    "                    g.append(ul.find('dd',{'id':'dToAcptDd'}).text)  # 접수마감일자\n",
    "                    \n",
    "                except:\n",
    "                    pass"
   ]
  },
  {
   "cell_type": "code",
   "execution_count": null,
   "metadata": {},
   "outputs": [],
   "source": []
  }
 ],
 "metadata": {
  "kernelspec": {
   "display_name": "Python 3.9.13 ('base')",
   "language": "python",
   "name": "python3"
  },
  "language_info": {
   "codemirror_mode": {
    "name": "ipython",
    "version": 3
   },
   "file_extension": ".py",
   "mimetype": "text/x-python",
   "name": "python",
   "nbconvert_exporter": "python",
   "pygments_lexer": "ipython3",
   "version": "3.9.13"
  },
  "orig_nbformat": 4,
  "vscode": {
   "interpreter": {
    "hash": "ad2bdc8ecc057115af97d19610ffacc2b4e99fae6737bb82f5d7fb13d2f2c186"
   }
  }
 },
 "nbformat": 4,
 "nbformat_minor": 2
}
