{
 "cells": [
  {
   "cell_type": "code",
   "execution_count": 1,
   "metadata": {},
   "outputs": [],
   "source": [
    "# 모듈 로딩\n",
    "import pandas as pd\n",
    "\n",
    "# 파일 로딩\n",
    "df = pd.read_csv('./data/디지털배움터1.csv')"
   ]
  },
  {
   "cell_type": "code",
   "execution_count": 2,
   "metadata": {},
   "outputs": [],
   "source": [
    "# 필요 없는 컬럼 삭제\n",
    "df = df.drop('Unnamed: 0', axis = 1)"
   ]
  },
  {
   "cell_type": "code",
   "execution_count": 3,
   "metadata": {},
   "outputs": [],
   "source": [
    "# 컬럼명 변경\n",
    "df.columns = ['센터명','장소/위치','연락처','이용정원','운영상태']"
   ]
  },
  {
   "cell_type": "code",
   "execution_count": 4,
   "metadata": {},
   "outputs": [],
   "source": [
    "# '장소/위치' 컬럼 값에서 '위치보기' 삭제\n",
    "for idx in range(df.shape[0]):\n",
    "    df.iloc[idx]['장소/위치'] = df.iloc[idx]['장소/위치'].replace('위치보기','')"
   ]
  },
  {
   "cell_type": "code",
   "execution_count": 5,
   "metadata": {},
   "outputs": [],
   "source": [
    "sd =[]  # '시도' 컬럼 담을 리스트\n",
    "sgg = []  # '시군구' 컬럼 담을 리스트\n",
    "\n",
    "for idx in range(df.shape[0]):\n",
    "    sd.append(df.iloc[idx]['장소/위치'].split()[0])\n",
    "    sgg.append(df.iloc[idx]['장소/위치'].split()[1])"
   ]
  },
  {
   "cell_type": "code",
   "execution_count": 6,
   "metadata": {},
   "outputs": [],
   "source": [
    "# '시도' 컬럼 삽입\n",
    "df.insert(0, '시도', sd)"
   ]
  },
  {
   "cell_type": "code",
   "execution_count": 7,
   "metadata": {},
   "outputs": [],
   "source": [
    "# '시군구' 컬럼 삽입\n",
    "df.insert(1, '시군구', sgg)"
   ]
  },
  {
   "cell_type": "code",
   "execution_count": 8,
   "metadata": {},
   "outputs": [],
   "source": [
    "# 데이터프레임 df -> csv 파일로 저장\n",
    "df.to_csv('디지털배움터최종.csv', index=False)"
   ]
  }
 ],
 "metadata": {
  "kernelspec": {
   "display_name": "Python 3 (ipykernel)",
   "language": "python",
   "name": "python3"
  },
  "language_info": {
   "codemirror_mode": {
    "name": "ipython",
    "version": 3
   },
   "file_extension": ".py",
   "mimetype": "text/x-python",
   "name": "python",
   "nbconvert_exporter": "python",
   "pygments_lexer": "ipython3",
   "version": "3.9.13"
  },
  "vscode": {
   "interpreter": {
    "hash": "18936f251c67fdd6ecdf5410826388c1f6b1d5ccb4ab5eae8e10081fbe22b3ad"
   }
  }
 },
 "nbformat": 4,
 "nbformat_minor": 2
}
