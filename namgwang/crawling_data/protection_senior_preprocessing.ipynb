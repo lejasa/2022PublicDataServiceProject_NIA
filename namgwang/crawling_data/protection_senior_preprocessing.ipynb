{
 "cells": [
  {
   "cell_type": "code",
   "execution_count": 13,
   "id": "ae0f0ed9",
   "metadata": {},
   "outputs": [],
   "source": [
    "# 모듈 로딩\n",
    "import pandas as pd\n",
    "\n",
    "# 파일 로딩\n",
    "df = pd.read_csv('./data/노인보호기관현황.csv')\n",
    "\n",
    "# '시도' 컬럼 리스트형 변환 후 value 변수에 저장\n",
    "value = df.시도.to_list()"
   ]
  },
  {
   "cell_type": "code",
   "execution_count": 14,
   "id": "152258f3",
   "metadata": {},
   "outputs": [],
   "source": [
    "# '시도' 컬럼 데이터에 '노인보호전문기관' 문자열 붙이기\n",
    "result=[]\n",
    "\n",
    "for i in range(len(value)):\n",
    "    result.append(value[i]+'노인보호전문기관')"
   ]
  },
  {
   "cell_type": "code",
   "execution_count": 15,
   "id": "dc99f475",
   "metadata": {},
   "outputs": [],
   "source": [
    "# '시도' 컬럼에 result 데이터 넣기\n",
    "df.시도 = pd.Series(result)"
   ]
  },
  {
   "cell_type": "code",
   "execution_count": 16,
   "id": "b36f495c",
   "metadata": {},
   "outputs": [],
   "source": [
    "# '시도' -> '기관명' 컬럼명 변경\n",
    "df = df.rename(columns={'시도':'기관명'})"
   ]
  },
  {
   "cell_type": "code",
   "execution_count": 17,
   "id": "14e632d1",
   "metadata": {},
   "outputs": [],
   "source": [
    "sd = []  # 시도 담을 리스트\n",
    "sgg = []  # 시군구 담을 리스트\n",
    "\n",
    "for idx in range(df.shape[0]):\n",
    "    sd.append(df['주소'][idx].split()[0])\n",
    "    sgg.append(df['주소'][idx].split()[1])"
   ]
  },
  {
   "cell_type": "code",
   "execution_count": 18,
   "id": "ecb9cfde",
   "metadata": {
    "scrolled": true
   },
   "outputs": [
    {
     "data": {
      "text/plain": [
       "array(['서울특별시', '서울시', '부산광역시', '대구광역시', '인천광역시', '광주광역시', '대전광역시',\n",
       "       '울산광역시', '경기도', '강원도', '충청북도', '충청남도', '전라북도', '전북', '전라남도',\n",
       "       '경상북도', '경북', '경상남도', '제주특별자치도'], dtype=object)"
      ]
     },
     "execution_count": 18,
     "metadata": {},
     "output_type": "execute_result"
    }
   ],
   "source": [
    "# 변수 sd 값 확인\n",
    "pd.Series(sd).unique()"
   ]
  },
  {
   "cell_type": "code",
   "execution_count": 19,
   "id": "ef9b9c1e",
   "metadata": {},
   "outputs": [],
   "source": [
    "# '시도' 컬럼 삽입\n",
    "df.insert(0, '시도', sd)"
   ]
  },
  {
   "cell_type": "code",
   "execution_count": 20,
   "id": "f121c23c",
   "metadata": {},
   "outputs": [],
   "source": [
    "# '시군구' 컬럼 삽입\n",
    "df.insert(1, '시군구', sgg)"
   ]
  },
  {
   "cell_type": "code",
   "execution_count": 21,
   "id": "9468a44f",
   "metadata": {},
   "outputs": [],
   "source": [
    "# '시도' 컬럼 값 변경\n",
    "addr ={'서울시':'서울특별시','전북':'전라북도','경북':'경상북도'}\n",
    "\n",
    "df['시도'] = df['시도'].apply(lambda v: addr.get(v, v))"
   ]
  },
  {
   "cell_type": "code",
   "execution_count": 22,
   "id": "735dab24",
   "metadata": {},
   "outputs": [],
   "source": [
    "# 데이터 프레임 df -> csv 파일로 저장\n",
    "df.to_csv('노인보호시설.csv', index=False)"
   ]
  }
 ],
 "metadata": {
  "kernelspec": {
   "display_name": "Python 3 (ipykernel)",
   "language": "python",
   "name": "python3"
  },
  "language_info": {
   "codemirror_mode": {
    "name": "ipython",
    "version": 3
   },
   "file_extension": ".py",
   "mimetype": "text/x-python",
   "name": "python",
   "nbconvert_exporter": "python",
   "pygments_lexer": "ipython3",
   "version": "3.9.13"
  }
 },
 "nbformat": 4,
 "nbformat_minor": 5
}
