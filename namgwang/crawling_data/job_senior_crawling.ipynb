{
 "cells": [
  {
   "cell_type": "code",
   "execution_count": 1,
   "metadata": {},
   "outputs": [],
   "source": [
    "text = ['서울특별시 강남구', '서울특별시 강동구', '서울특별시 강북구', '서울특별시 강서구', '서울특별시 관악구', '서울특별시 광진구', '서울특별시 구로구', '서울특별시 금천구', '서울특별시 노원구', '서울특별시 도봉구', '서울특별시 동대문구', '서울특별시 동작구', '서울특별시 마포구', '서울특별시 서대문구', '서울특별시 서초구', '서울특별시 성동구', '서울특별시 성북구', '서울특별시 송파구', '서울특별시 양천구', '서울특별시 영등포구', '서울특별시 용산구', '서울특별시 은평구', '서울특별시 종로구', '서울특별시 중구', '서울특별시 중랑구', '서울특별시 직속', '강원도 강릉시', '강원도 고성군', '강원도 동해시', '강원도 삼척시', '강원도 속초시', '강원도 양구군', '강원도 양양군', '강원도 영월군', '강원도 원주시', '강원도 인제군', '강원도 정선군', '강원도 직속', '강원도 철원군', '강원도 춘천시', '강원도 태백시', '강원도 평창군', '강원도 홍천군', '강원도 화천군', '강원도 횡성군', '경기도 가평군', '경기도 고양시', '경기도 고양시 덕양구', '경기도 고양시 일산동구', '경기도 고양시 일산서구', '경기도 과천시', '경기도 광명시', '경기도 광주시', '경기도 구리시', '경기도 군포시', '경기도 김포시', '경기도 남양주시', '경기도 동두천시', '경기도 부천시', '경기도 성남시', '경기도 성남시 분당구', '경기도 성남시 수정구', '경기도 성남시 중원구', '경기도 수원시', '경기도 수원시 권선구', '경기도 수원시 영통구', '경기도 수원시 장안구', '경기도 수원시 팔달구', '경기도 시흥시', '경기도 안산시', '경기도 안산시 단원구', '경기도 안산시 상록구', '경기도 안성시', '경기도 안양시', '경기도 안양시 동안구', '경기도 안양시 만안구', '경기도 양주시', '경기도 양평군', '경기도 여주시', '경기도 연천군', '경기도 오산시', '경기도 용인시', '경기도 용인시 기흥구', '경기도 용인시 수지구', '경기도 용인시 처인구', '경기도 의왕시', '경기도 의정부시', '경기도 이천시', '경기도 직속', '경기도 파주시', '경기도 평택시', '경기도 포천시', '경기도 하남시', '경기도 화성시', '경상남도 거제시', '경상남도 거창군', '경상남도 고성군', '경상남도 김해시', '경상남도 남해군', '경상남도 밀양시', '경상남도 사천시', '경상남도 산청군', '경상남도 양산시', '경상남도 의령군', '경상남도 직속', '경상남도 진주시', '경상남도 창녕군', '경상남도 창원시', '경상남도 창원시 마산합포구', '경상남도 창원시 마산회원구', '경상남도 창원시 성산구', '경상남도 창원시 의창구', '경상남도 창원시 진해구', '경상남도 통영시', '경상남도 하동군', '경상남도 함안군', '경상남도 함양군', '경상남도 합천군', '경상북도 경산시', '경상북도 경주시', '경상북도 고령군', '경상북도 구미시', '경상북도 군위군', '경상북도 김천시', '경상북도 문경시', '경상북도 봉화군', '경상북도 상주시', '경상북도 성주군', '경상북도 안동시', '경상북도 영덕군', '경상북도 영양군', '경상북도 영주시', '경상북도 영천시', '경상북도 예천군', '경상북도 울릉군', '경상북도 울진군', '경상북도 의성군', '경상북도 직속', '경상북도 청도군', '경상북도 청송군', '경상북도 칠곡군', '경상북도 포항시', '경상북도 포항시 남구', '경상북도 포항시 북구', '광주광역시 광산구', '광주광역시 남구', '광주광역시 동구', '광주광역시 북구', '광주광역시 서구', '광주광역시 직속', '대구광역시 남구', '대구광역시 달서구', '대구광역시 달성군', '대구광역시 동구', '대구광역시 북구', '대구광역시 서구', '대구광역시 수성구', '대구광역시 중구', '대구광역시 직속', '대전광역시 대덕구', '대전광역시 동구', '대전광역시 서구', '대전광역시 유성구', '대전광역시 중구', '대전광역시 직속', '부산광역시 강서구', '부산광역시 금정구', '부산광역시 기장군', '부산광역시 남구', '부산광역시 동구', '부산광역시 동래구', '부산광역시 부산진구', '부산광역시 북구', '부산광역시 사상구', '부산광역시 사하구', '부산광역시 서구', '부산광역시 수영구', '부산광역시 연제구', '부산광역시 영도구', '부산광역시 중구', '부산광역시 직속', '부산광역시 해운대구', '울산광역시 남구', '울산광역시 동구', '울산광역시 북구', '울산광역시 울주군', '울산광역시 중구', '울산광역시 직속', '인천광역시 강화군', '인천광역시 계양구', '인천광역시 남동구', '인천광역시 동구', '인천광역시 미추홀구', '인천광역시 부평구', '인천광역시 서구', '인천광역시 연수구', '인천광역시 옹진군', '인천광역시 중구', '인천광역시 직속', '전라남도 강진군', '전라남도 고흥군', '전라남도 곡성군', '전라남도 광양시', '전라남도 구례군', '전라남도 나주시', '전라남도 담양군', '전라남도 목포시', '전라남도 무안군', '전라남도 보성군', '전라남도 순천시', '전라남도 신안군', '전라남도 여수시', '전라남도 영광군', '전라남도 영암군', '전라남도 완도군', '전라남도 장성군', '전라남도 장흥군', '전라남도 직속', '전라남도 진도군', '전라남도 함평군', '전라남도 해남군', '전라남도 화순군', '전라북도 고창군', '전라북도 군산시', '전라북도 김제시', '전라북도 남원시', '전라북도 무주군', '전라북도 부안군', '전라북도 순창군', '전라북도 완주군', '전라북도 익산시', '전라북도 임실군', '전라북도 장수군', '전라북도 전주시', '전라북도 전주시 덕진구', '전라북도 전주시 완산구', '전라북도 정읍시', '전라북도 직속', '전라북도 진안군', '제주특별자치도 서귀포시', '제주특별자치도 제주시', '제주특별자치도 직속', '충청남도 계룡시', '충청남도 공주시', '충청남도 금산군', '충청남도 논산시', '충청남도 당진시', '충청남도 보령시', '충청남도 부여군', '충청남도 서산시', '충청남도 서천군', '충청남도 아산시', '충청남도 예산군', '충청남도 직속', '충청남도 천안시', '충청남도 천안시 동남구', '충청남도 천안시 서북구', '충청남도 청양군', '충청남도 태안군', '충청남도 홍성군', '충청북도 괴산군', '충청북도 단양군', '충청북도 보은군', '충청북도 영동군', '충청북도 옥천군', '충청북도 음성군', '충청북도 제천시', '충청북도 증평군', '충청북도 직속', '충청북도 진천군', '충청북도 청주시', '충청북도 청주시 상당구', '충청북도 청주시 서원구', '충청북도 청주시 청원구', '충청북도 청주시 흥덕구', '충청북도 충주시', '세종특별자치시 세종시']\n",
    "\n",
    "texts=[]\n",
    "\n",
    "for txt in text:\n",
    "    a = []\n",
    "    a.append(txt.split()[0])\n",
    "    a.append(' '.join(txt.split()[1:]))\n",
    "\n",
    "    texts.append(tuple(a))"
   ]
  },
  {
   "cell_type": "code",
   "execution_count": 2,
   "metadata": {
    "collapsed": true
   },
   "outputs": [
    {
     "name": "stderr",
     "output_type": "stream",
     "text": [
      "C:\\Users\\USER\\AppData\\Local\\Temp\\ipykernel_13468\\4041171691.py:19: DeprecationWarning: executable_path has been deprecated, please pass in a Service object\n",
      "  driver = webdriver.Chrome('C:/Users/User/Desktop/chromedriver')\n"
     ]
    },
    {
     "ename": "NoSuchWindowException",
     "evalue": "Message: no such window: target window already closed\nfrom unknown error: web view not found\n  (Session info: chrome=107.0.5304.88)\nStacktrace:\nBacktrace:\n\tOrdinal0 [0x00631ED3+2236115]\n\tOrdinal0 [0x005C92F1+1807089]\n\tOrdinal0 [0x004D66FD+812797]\n\tOrdinal0 [0x004BDFFA+712698]\n\tOrdinal0 [0x0052506B+1134699]\n\tOrdinal0 [0x0053514A+1200458]\n\tOrdinal0 [0x005218A6+1120422]\n\tOrdinal0 [0x004FA73D+960317]\n\tOrdinal0 [0x004FB71F+964383]\n\tGetHandleVerifier [0x008DE7E2+2743074]\n\tGetHandleVerifier [0x008D08D4+2685972]\n\tGetHandleVerifier [0x006C2BAA+532202]\n\tGetHandleVerifier [0x006C1990+527568]\n\tOrdinal0 [0x005D080C+1837068]\n\tOrdinal0 [0x005D4CD8+1854680]\n\tOrdinal0 [0x005D4DC5+1854917]\n\tOrdinal0 [0x005DED64+1895780]\n\tBaseThreadInitThunk [0x76E3FA29+25]\n\tRtlGetAppContainerNamedObjectPath [0x77457BBE+286]\n\tRtlGetAppContainerNamedObjectPath [0x77457B8E+238]\n",
     "output_type": "error",
     "traceback": [
      "\u001b[1;31m---------------------------------------------------------------------------\u001b[0m",
      "\u001b[1;31mNoSuchWindowException\u001b[0m                     Traceback (most recent call last)",
      "Cell \u001b[1;32mIn [2], line 40\u001b[0m\n\u001b[0;32m     37\u001b[0m \u001b[38;5;28;01mfor\u001b[39;00m num \u001b[38;5;129;01min\u001b[39;00m \u001b[38;5;28mrange\u001b[39m(\u001b[38;5;241m1\u001b[39m, nums\u001b[38;5;241m+\u001b[39m\u001b[38;5;241m1\u001b[39m):\n\u001b[0;32m     39\u001b[0m     time\u001b[38;5;241m.\u001b[39msleep(\u001b[38;5;241m2\u001b[39m)\n\u001b[1;32m---> 40\u001b[0m     driver\u001b[38;5;241m.\u001b[39mexecute_script(\u001b[38;5;124mf\u001b[39m\u001b[38;5;124m\"\u001b[39m\u001b[38;5;124mjavascript:jobList(\u001b[39m\u001b[38;5;132;01m{\u001b[39;00m\u001b[38;5;28mstr\u001b[39m(num)\u001b[38;5;132;01m}\u001b[39;00m\u001b[38;5;124m,\u001b[39m\u001b[38;5;124m'\u001b[39m\u001b[38;5;124m'\u001b[39m\u001b[38;5;124m)\u001b[39m\u001b[38;5;124m\"\u001b[39m)\n\u001b[0;32m     42\u001b[0m     \u001b[38;5;66;03m# 해당 페이지 주소들 뽑기\u001b[39;00m\n\u001b[0;32m     43\u001b[0m     ul \u001b[38;5;241m=\u001b[39m soup\u001b[38;5;241m.\u001b[39mfind(\u001b[38;5;124m'\u001b[39m\u001b[38;5;124mul\u001b[39m\u001b[38;5;124m'\u001b[39m,{\u001b[38;5;124m'\u001b[39m\u001b[38;5;124mid\u001b[39m\u001b[38;5;124m'\u001b[39m:\u001b[38;5;124m'\u001b[39m\u001b[38;5;124mrsList02\u001b[39m\u001b[38;5;124m'\u001b[39m})\n",
      "File \u001b[1;32m~\\AppData\\Roaming\\Python\\Python39\\site-packages\\selenium\\webdriver\\remote\\webdriver.py:492\u001b[0m, in \u001b[0;36mWebDriver.execute_script\u001b[1;34m(self, script, *args)\u001b[0m\n\u001b[0;32m    489\u001b[0m converted_args \u001b[38;5;241m=\u001b[39m \u001b[38;5;28mlist\u001b[39m(args)\n\u001b[0;32m    490\u001b[0m command \u001b[38;5;241m=\u001b[39m Command\u001b[38;5;241m.\u001b[39mW3C_EXECUTE_SCRIPT\n\u001b[1;32m--> 492\u001b[0m \u001b[38;5;28;01mreturn\u001b[39;00m \u001b[38;5;28;43mself\u001b[39;49m\u001b[38;5;241;43m.\u001b[39;49m\u001b[43mexecute\u001b[49m\u001b[43m(\u001b[49m\u001b[43mcommand\u001b[49m\u001b[43m,\u001b[49m\u001b[43m \u001b[49m\u001b[43m{\u001b[49m\n\u001b[0;32m    493\u001b[0m \u001b[43m    \u001b[49m\u001b[38;5;124;43m'\u001b[39;49m\u001b[38;5;124;43mscript\u001b[39;49m\u001b[38;5;124;43m'\u001b[39;49m\u001b[43m:\u001b[49m\u001b[43m \u001b[49m\u001b[43mscript\u001b[49m\u001b[43m,\u001b[49m\n\u001b[0;32m    494\u001b[0m \u001b[43m    \u001b[49m\u001b[38;5;124;43m'\u001b[39;49m\u001b[38;5;124;43margs\u001b[39;49m\u001b[38;5;124;43m'\u001b[39;49m\u001b[43m:\u001b[49m\u001b[43m \u001b[49m\u001b[43mconverted_args\u001b[49m\u001b[43m}\u001b[49m\u001b[43m)\u001b[49m[\u001b[38;5;124m'\u001b[39m\u001b[38;5;124mvalue\u001b[39m\u001b[38;5;124m'\u001b[39m]\n",
      "File \u001b[1;32m~\\AppData\\Roaming\\Python\\Python39\\site-packages\\selenium\\webdriver\\remote\\webdriver.py:429\u001b[0m, in \u001b[0;36mWebDriver.execute\u001b[1;34m(self, driver_command, params)\u001b[0m\n\u001b[0;32m    427\u001b[0m response \u001b[38;5;241m=\u001b[39m \u001b[38;5;28mself\u001b[39m\u001b[38;5;241m.\u001b[39mcommand_executor\u001b[38;5;241m.\u001b[39mexecute(driver_command, params)\n\u001b[0;32m    428\u001b[0m \u001b[38;5;28;01mif\u001b[39;00m response:\n\u001b[1;32m--> 429\u001b[0m     \u001b[38;5;28;43mself\u001b[39;49m\u001b[38;5;241;43m.\u001b[39;49m\u001b[43merror_handler\u001b[49m\u001b[38;5;241;43m.\u001b[39;49m\u001b[43mcheck_response\u001b[49m\u001b[43m(\u001b[49m\u001b[43mresponse\u001b[49m\u001b[43m)\u001b[49m\n\u001b[0;32m    430\u001b[0m     response[\u001b[38;5;124m'\u001b[39m\u001b[38;5;124mvalue\u001b[39m\u001b[38;5;124m'\u001b[39m] \u001b[38;5;241m=\u001b[39m \u001b[38;5;28mself\u001b[39m\u001b[38;5;241m.\u001b[39m_unwrap_value(\n\u001b[0;32m    431\u001b[0m         response\u001b[38;5;241m.\u001b[39mget(\u001b[38;5;124m'\u001b[39m\u001b[38;5;124mvalue\u001b[39m\u001b[38;5;124m'\u001b[39m, \u001b[38;5;28;01mNone\u001b[39;00m))\n\u001b[0;32m    432\u001b[0m     \u001b[38;5;28;01mreturn\u001b[39;00m response\n",
      "File \u001b[1;32m~\\AppData\\Roaming\\Python\\Python39\\site-packages\\selenium\\webdriver\\remote\\errorhandler.py:243\u001b[0m, in \u001b[0;36mErrorHandler.check_response\u001b[1;34m(self, response)\u001b[0m\n\u001b[0;32m    241\u001b[0m         alert_text \u001b[38;5;241m=\u001b[39m value[\u001b[38;5;124m'\u001b[39m\u001b[38;5;124malert\u001b[39m\u001b[38;5;124m'\u001b[39m]\u001b[38;5;241m.\u001b[39mget(\u001b[38;5;124m'\u001b[39m\u001b[38;5;124mtext\u001b[39m\u001b[38;5;124m'\u001b[39m)\n\u001b[0;32m    242\u001b[0m     \u001b[38;5;28;01mraise\u001b[39;00m exception_class(message, screen, stacktrace, alert_text)  \u001b[38;5;66;03m# type: ignore[call-arg]  # mypy is not smart enough here\u001b[39;00m\n\u001b[1;32m--> 243\u001b[0m \u001b[38;5;28;01mraise\u001b[39;00m exception_class(message, screen, stacktrace)\n",
      "\u001b[1;31mNoSuchWindowException\u001b[0m: Message: no such window: target window already closed\nfrom unknown error: web view not found\n  (Session info: chrome=107.0.5304.88)\nStacktrace:\nBacktrace:\n\tOrdinal0 [0x00631ED3+2236115]\n\tOrdinal0 [0x005C92F1+1807089]\n\tOrdinal0 [0x004D66FD+812797]\n\tOrdinal0 [0x004BDFFA+712698]\n\tOrdinal0 [0x0052506B+1134699]\n\tOrdinal0 [0x0053514A+1200458]\n\tOrdinal0 [0x005218A6+1120422]\n\tOrdinal0 [0x004FA73D+960317]\n\tOrdinal0 [0x004FB71F+964383]\n\tGetHandleVerifier [0x008DE7E2+2743074]\n\tGetHandleVerifier [0x008D08D4+2685972]\n\tGetHandleVerifier [0x006C2BAA+532202]\n\tGetHandleVerifier [0x006C1990+527568]\n\tOrdinal0 [0x005D080C+1837068]\n\tOrdinal0 [0x005D4CD8+1854680]\n\tOrdinal0 [0x005D4DC5+1854917]\n\tOrdinal0 [0x005DED64+1895780]\n\tBaseThreadInitThunk [0x76E3FA29+25]\n\tRtlGetAppContainerNamedObjectPath [0x77457BBE+286]\n\tRtlGetAppContainerNamedObjectPath [0x77457B8E+238]\n"
     ]
    }
   ],
   "source": [
    "# 모듈 로딩\n",
    "from selenium import webdriver\n",
    "from bs4 import BeautifulSoup\n",
    "import re\n",
    "import time\n",
    "\n",
    "a=[]  # 지역 및 시군구 담을 리스트\n",
    "b=[]  # 기업명 담을 리스트\n",
    "c=[]  # 접수예정, 마감 담을 리스트\n",
    "d=[]  # 주소 담을 리스트\n",
    "e=[]  # 연락처 담을 리스트\n",
    "f=[]  # 구인사항 담을 리스트\n",
    "g=[]  # 접수마감일자 담을 리스트\n",
    "\n",
    "\n",
    "page_num = [0]*len(texts)\n",
    "for idx in range(len(texts)):\n",
    "\n",
    "    driver = webdriver.Chrome('C:/Users/User/Desktop/chromedriver')\n",
    "    driver.get('https://www.seniorro.or.kr:4431/seniorro/main/main.do')\n",
    "    time.sleep(2)\n",
    "    \n",
    "    driver.execute_script(f\"jobSearchAct02{texts[idx]}\")\n",
    "    time.sleep(2)\n",
    "\n",
    "    html=driver.page_source\n",
    "    soup=BeautifulSoup(html, 'html.parser')\n",
    "    div = soup.find('div',{'id':'paging02'})\n",
    "\n",
    "    try:\n",
    "        page_num[idx] = int(re.sub(r'[^0-9]', '', div.find_all('a')[-1]['href']))\n",
    " \n",
    "    except:\n",
    "        page_num[idx] = 0\n",
    "\n",
    "    for nums in page_num:\n",
    "        for num in range(1, nums+1):\n",
    "            \n",
    "            time.sleep(2)\n",
    "            driver.execute_script(f\"javascript:jobList({str(num)},'')\")\n",
    "\n",
    "            # 해당 페이지 주소들 뽑기\n",
    "            ul = soup.find('ul',{'id':'rsList02'})\n",
    "\n",
    "            for i in ul.find_all('a'):\n",
    "                url = i['href']\n",
    "\n",
    "                # 원하는 자료 추출\n",
    "                driver.execute_script(url)\n",
    "                time.sleep(2)\n",
    "\n",
    "                html=driver.page_source\n",
    "                soup=BeautifulSoup(html, 'html.parser')\n",
    "\n",
    "                ul = soup.find('div',{'id':'detailDiv'})\n",
    "                \n",
    "                try:    \n",
    "                    a.append(' '.join(texts[idx]))  # 지역 및 시군구\n",
    "                    b.append(ul.find('span',{'id':'dJobAnnounNm'}).text)  # 기업명\n",
    "                    c.append(ul.find('span',{'id':'dDeadLine'}).text)  # 접수예정, 마감\n",
    "                    d.append(ul.find('strong',{'id':'dAddr'}).text)  # 주소\n",
    "                    e.append(ul.find('strong',{'id':'dTelNo'}).text)  # 연락처\n",
    "                    f.append(ul.find('dd',{'id':'dDetCnts'}).text)   # 구인사항     \n",
    "                    g.append(ul.find('dd',{'id':'dToAcptDd'}).text)  # 접수마감일자\n",
    "                    \n",
    "                except:\n",
    "                    pass\n",
    "\n"
   ]
  },
  {
   "cell_type": "code",
   "execution_count": null,
   "metadata": {},
   "outputs": [],
   "source": [
    "import pandas as pd\n",
    "\n",
    "df = pd.DataFrame({'a':a, 'b':b, 'c':c, 'd':d, 'e':e, 'f':f, 'g':g})\n",
    "df.to_csv('인천일자리2.csv')"
   ]
  },
  {
   "cell_type": "code",
   "execution_count": null,
   "metadata": {},
   "outputs": [],
   "source": []
  }
 ],
 "metadata": {
  "kernelspec": {
   "display_name": "Python 3 (ipykernel)",
   "language": "python",
   "name": "python3"
  },
  "language_info": {
   "codemirror_mode": {
    "name": "ipython",
    "version": 3
   },
   "file_extension": ".py",
   "mimetype": "text/x-python",
   "name": "python",
   "nbconvert_exporter": "python",
   "pygments_lexer": "ipython3",
   "version": "3.9.13"
  },
  "vscode": {
   "interpreter": {
    "hash": "11938c6bc6919ae2720b4d5011047913343b08a43b18698fd82dedb0d4417594"
   }
  }
 },
 "nbformat": 4,
 "nbformat_minor": 2
}
