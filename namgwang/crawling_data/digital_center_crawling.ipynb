{
 "cells": [
  {
   "cell_type": "code",
   "execution_count": 2,
   "metadata": {},
   "outputs": [
    {
     "name": "stderr",
     "output_type": "stream",
     "text": [
      "C:\\Users\\USER\\AppData\\Local\\Temp\\ipykernel_18452\\1992788992.py:9: DeprecationWarning: executable_path has been deprecated, please pass in a Service object\n",
      "  driver = webdriver.Chrome('C:/Users/User/Desktop/chromedriver', options=options)\n"
     ]
    },
    {
     "ename": "NoSuchWindowException",
     "evalue": "Message: no such window: target window already closed\nfrom unknown error: web view not found\n  (Session info: chrome=107.0.5304.88)\nStacktrace:\nBacktrace:\n\tOrdinal0 [0x00631ED3+2236115]\n\tOrdinal0 [0x005C92F1+1807089]\n\tOrdinal0 [0x004D66FD+812797]\n\tOrdinal0 [0x004BDFFA+712698]\n\tOrdinal0 [0x0052506B+1134699]\n\tOrdinal0 [0x0053514A+1200458]\n\tOrdinal0 [0x005218A6+1120422]\n\tOrdinal0 [0x004FA73D+960317]\n\tOrdinal0 [0x004FB71F+964383]\n\tGetHandleVerifier [0x008DE7E2+2743074]\n\tGetHandleVerifier [0x008D08D4+2685972]\n\tGetHandleVerifier [0x006C2BAA+532202]\n\tGetHandleVerifier [0x006C1990+527568]\n\tOrdinal0 [0x005D080C+1837068]\n\tOrdinal0 [0x005D4CD8+1854680]\n\tOrdinal0 [0x005D4DC5+1854917]\n\tOrdinal0 [0x005DED64+1895780]\n\tBaseThreadInitThunk [0x76E3FA29+25]\n\tRtlGetAppContainerNamedObjectPath [0x77457BBE+286]\n\tRtlGetAppContainerNamedObjectPath [0x77457B8E+238]\n",
     "output_type": "error",
     "traceback": [
      "\u001b[1;31m---------------------------------------------------------------------------\u001b[0m",
      "\u001b[1;31mNoSuchWindowException\u001b[0m                     Traceback (most recent call last)",
      "Cell \u001b[1;32mIn [2], line 20\u001b[0m\n\u001b[0;32m     17\u001b[0m time\u001b[38;5;241m.\u001b[39msleep(\u001b[38;5;241m2\u001b[39m)\n\u001b[0;32m     18\u001b[0m driver\u001b[38;5;241m.\u001b[39mexecute_script(\u001b[38;5;124mf\u001b[39m\u001b[38;5;124m\"\u001b[39m\u001b[38;5;124mfc_goPage(\u001b[39m\u001b[38;5;124m'\u001b[39m\u001b[38;5;124m/edc/crse/place.do?punit=5&psize=12&m1=&m2=&m3=&m4=&pno=\u001b[39m\u001b[38;5;132;01m{\u001b[39;00m\u001b[38;5;28mstr\u001b[39m(i)\u001b[38;5;132;01m}\u001b[39;00m\u001b[38;5;124m'\u001b[39m\u001b[38;5;124m);return false;\u001b[39m\u001b[38;5;124m\"\u001b[39m)\n\u001b[1;32m---> 20\u001b[0m html\u001b[38;5;241m=\u001b[39mdriver\u001b[38;5;241m.\u001b[39mpage_source\n\u001b[0;32m     21\u001b[0m soup\u001b[38;5;241m=\u001b[39mBeautifulSoup(html, \u001b[38;5;124m'\u001b[39m\u001b[38;5;124mhtml.parser\u001b[39m\u001b[38;5;124m'\u001b[39m)\n\u001b[0;32m     23\u001b[0m div \u001b[38;5;241m=\u001b[39m soup\u001b[38;5;241m.\u001b[39mfind(\u001b[38;5;124m'\u001b[39m\u001b[38;5;124mdiv\u001b[39m\u001b[38;5;124m'\u001b[39m,{\u001b[38;5;124m'\u001b[39m\u001b[38;5;124mclass\u001b[39m\u001b[38;5;124m'\u001b[39m,\u001b[38;5;124m'\u001b[39m\u001b[38;5;124mlist imgList v3 borderList col4\u001b[39m\u001b[38;5;124m'\u001b[39m})\n",
      "File \u001b[1;32m~\\AppData\\Roaming\\Python\\Python39\\site-packages\\selenium\\webdriver\\remote\\webdriver.py:540\u001b[0m, in \u001b[0;36mWebDriver.page_source\u001b[1;34m(self)\u001b[0m\n\u001b[0;32m    530\u001b[0m \u001b[38;5;129m@property\u001b[39m\n\u001b[0;32m    531\u001b[0m \u001b[38;5;28;01mdef\u001b[39;00m \u001b[38;5;21mpage_source\u001b[39m(\u001b[38;5;28mself\u001b[39m) \u001b[38;5;241m-\u001b[39m\u001b[38;5;241m>\u001b[39m \u001b[38;5;28mstr\u001b[39m:\n\u001b[0;32m    532\u001b[0m     \u001b[38;5;124;03m\"\"\"\u001b[39;00m\n\u001b[0;32m    533\u001b[0m \u001b[38;5;124;03m    Gets the source of the current page.\u001b[39;00m\n\u001b[0;32m    534\u001b[0m \n\u001b[1;32m   (...)\u001b[0m\n\u001b[0;32m    538\u001b[0m \u001b[38;5;124;03m            driver.page_source\u001b[39;00m\n\u001b[0;32m    539\u001b[0m \u001b[38;5;124;03m    \"\"\"\u001b[39;00m\n\u001b[1;32m--> 540\u001b[0m     \u001b[38;5;28;01mreturn\u001b[39;00m \u001b[38;5;28;43mself\u001b[39;49m\u001b[38;5;241;43m.\u001b[39;49m\u001b[43mexecute\u001b[49m\u001b[43m(\u001b[49m\u001b[43mCommand\u001b[49m\u001b[38;5;241;43m.\u001b[39;49m\u001b[43mGET_PAGE_SOURCE\u001b[49m\u001b[43m)\u001b[49m[\u001b[38;5;124m'\u001b[39m\u001b[38;5;124mvalue\u001b[39m\u001b[38;5;124m'\u001b[39m]\n",
      "File \u001b[1;32m~\\AppData\\Roaming\\Python\\Python39\\site-packages\\selenium\\webdriver\\remote\\webdriver.py:429\u001b[0m, in \u001b[0;36mWebDriver.execute\u001b[1;34m(self, driver_command, params)\u001b[0m\n\u001b[0;32m    427\u001b[0m response \u001b[38;5;241m=\u001b[39m \u001b[38;5;28mself\u001b[39m\u001b[38;5;241m.\u001b[39mcommand_executor\u001b[38;5;241m.\u001b[39mexecute(driver_command, params)\n\u001b[0;32m    428\u001b[0m \u001b[38;5;28;01mif\u001b[39;00m response:\n\u001b[1;32m--> 429\u001b[0m     \u001b[38;5;28;43mself\u001b[39;49m\u001b[38;5;241;43m.\u001b[39;49m\u001b[43merror_handler\u001b[49m\u001b[38;5;241;43m.\u001b[39;49m\u001b[43mcheck_response\u001b[49m\u001b[43m(\u001b[49m\u001b[43mresponse\u001b[49m\u001b[43m)\u001b[49m\n\u001b[0;32m    430\u001b[0m     response[\u001b[38;5;124m'\u001b[39m\u001b[38;5;124mvalue\u001b[39m\u001b[38;5;124m'\u001b[39m] \u001b[38;5;241m=\u001b[39m \u001b[38;5;28mself\u001b[39m\u001b[38;5;241m.\u001b[39m_unwrap_value(\n\u001b[0;32m    431\u001b[0m         response\u001b[38;5;241m.\u001b[39mget(\u001b[38;5;124m'\u001b[39m\u001b[38;5;124mvalue\u001b[39m\u001b[38;5;124m'\u001b[39m, \u001b[38;5;28;01mNone\u001b[39;00m))\n\u001b[0;32m    432\u001b[0m     \u001b[38;5;28;01mreturn\u001b[39;00m response\n",
      "File \u001b[1;32m~\\AppData\\Roaming\\Python\\Python39\\site-packages\\selenium\\webdriver\\remote\\errorhandler.py:243\u001b[0m, in \u001b[0;36mErrorHandler.check_response\u001b[1;34m(self, response)\u001b[0m\n\u001b[0;32m    241\u001b[0m         alert_text \u001b[38;5;241m=\u001b[39m value[\u001b[38;5;124m'\u001b[39m\u001b[38;5;124malert\u001b[39m\u001b[38;5;124m'\u001b[39m]\u001b[38;5;241m.\u001b[39mget(\u001b[38;5;124m'\u001b[39m\u001b[38;5;124mtext\u001b[39m\u001b[38;5;124m'\u001b[39m)\n\u001b[0;32m    242\u001b[0m     \u001b[38;5;28;01mraise\u001b[39;00m exception_class(message, screen, stacktrace, alert_text)  \u001b[38;5;66;03m# type: ignore[call-arg]  # mypy is not smart enough here\u001b[39;00m\n\u001b[1;32m--> 243\u001b[0m \u001b[38;5;28;01mraise\u001b[39;00m exception_class(message, screen, stacktrace)\n",
      "\u001b[1;31mNoSuchWindowException\u001b[0m: Message: no such window: target window already closed\nfrom unknown error: web view not found\n  (Session info: chrome=107.0.5304.88)\nStacktrace:\nBacktrace:\n\tOrdinal0 [0x00631ED3+2236115]\n\tOrdinal0 [0x005C92F1+1807089]\n\tOrdinal0 [0x004D66FD+812797]\n\tOrdinal0 [0x004BDFFA+712698]\n\tOrdinal0 [0x0052506B+1134699]\n\tOrdinal0 [0x0053514A+1200458]\n\tOrdinal0 [0x005218A6+1120422]\n\tOrdinal0 [0x004FA73D+960317]\n\tOrdinal0 [0x004FB71F+964383]\n\tGetHandleVerifier [0x008DE7E2+2743074]\n\tGetHandleVerifier [0x008D08D4+2685972]\n\tGetHandleVerifier [0x006C2BAA+532202]\n\tGetHandleVerifier [0x006C1990+527568]\n\tOrdinal0 [0x005D080C+1837068]\n\tOrdinal0 [0x005D4CD8+1854680]\n\tOrdinal0 [0x005D4DC5+1854917]\n\tOrdinal0 [0x005DED64+1895780]\n\tBaseThreadInitThunk [0x76E3FA29+25]\n\tRtlGetAppContainerNamedObjectPath [0x77457BBE+286]\n\tRtlGetAppContainerNamedObjectPath [0x77457B8E+238]\n"
     ]
    }
   ],
   "source": [
    "# 모듈 로딩\n",
    "from selenium import webdriver\n",
    "from bs4 import BeautifulSoup\n",
    "import re\n",
    "import requests\n",
    "import time\n",
    "\n",
    "options = webdriver.ChromeOptions()\n",
    "driver = webdriver.Chrome('C:/Users/User/Desktop/chromedriver', options=options) \n",
    "\n",
    "driver.get('https://www.xn--2z1bw8k1pjz5ccumkb.kr/edc/crse/place.do#')\n",
    "\n",
    "\n",
    "java = [] \n",
    "for i in range(1,111):   # 페이지 110까지\n",
    "\n",
    "    time.sleep(2)\n",
    "    driver.execute_script(f\"fc_goPage('/edc/crse/place.do?punit=5&psize=12&m1=&m2=&m3=&m4=&pno={str(i)}');return false;\")\n",
    "\n",
    "    html=driver.page_source\n",
    "    soup=BeautifulSoup(html, 'html.parser')\n",
    "\n",
    "    div = soup.find('div',{'class','list imgList v3 borderList col4'})\n",
    "\n",
    "\n",
    "    for j in div.find_all('a'):   # 각 페이지에 해당하는 하나의 값 id 추출\n",
    "        java.append(j['onclick'])"
   ]
  },
  {
   "cell_type": "code",
   "execution_count": 3,
   "metadata": {},
   "outputs": [
    {
     "name": "stderr",
     "output_type": "stream",
     "text": [
      "C:\\Users\\USER\\AppData\\Local\\Temp\\ipykernel_18452\\1541237080.py:10: DeprecationWarning: executable_path has been deprecated, please pass in a Service object\n",
      "  driver = webdriver.Chrome('C:/Users/User/Desktop/chromedriver', options=options)\n"
     ]
    }
   ],
   "source": [
    "# 모듈 로딩\n",
    "from selenium import webdriver\n",
    "from bs4 import BeautifulSoup\n",
    "import re\n",
    "import requests\n",
    "import time\n",
    "from selenium.webdriver.common.by import By\n",
    "\n",
    "options = webdriver.ChromeOptions()\n",
    "driver = webdriver.Chrome('C:/Users/User/Desktop/chromedriver', options=options)\n",
    "\n",
    "driver.get('https://www.xn--2z1bw8k1pjz5ccumkb.kr/edc/crse/place.do#')\n",
    "\n",
    "a=[]  # 센터명 담을 리스트\n",
    "b=[]  # 장소/위치 담을 리스트\n",
    "c=[]  # 연락처 담을 리스트\n",
    "d=[]  # 이용정원 담을 리스트\n",
    "e=[]  # 운영상태 담을 리스트\n",
    "f=[]  # 표 내용 담을 리스트\n",
    "\n",
    "\n",
    "for uu in java:\n",
    "    driver.execute_script(uu)\n",
    "\n",
    "    html=driver.page_source\n",
    "    soup=BeautifulSoup(html, 'html.parser')\n",
    "\n",
    "    div = soup.find('div',{'class':'detailTop flex'})\n",
    "\n",
    "    a.append(div.find('div',{'id':'edc_place_nm'}).text)  # 센터명\n",
    "    b.append(div.find('div',{'id':'edc_plc_adres'}).text)  # 장소/위치\n",
    "    c.append(div.find('div',{'id':'telno'}).text)  # 연락처\n",
    "    d.append(div.find('div',{'id':'edc_nmpr_co'}).text)  # 이용정원\n",
    "    e.append(div.find('div',{'id':'oper_sttus_se_nm'}).text)  # 운영상태\n",
    "\n",
    "    div1 = soup.find('div',{'class':'inBox'})\n",
    "    page = re.sub(r'[^0-9]','',div1.find_all('a')[-1]['onclick'].split('=')[-1])   # 마지막 페이지 뽑기\n",
    "\n",
    "\n",
    "    table =[div.find('div',{'id':'edc_place_nm'}).text]\n",
    "    \n",
    "    for num in range(1, int(page)+1):\n",
    "        driver.execute_script(f\"fc_goPage('/edc/crse/plcdtl.do?punit=5&psize=10&m1=&m2=&m3=&m4=&pno={int(num)}');return false;\")\n",
    "        time.sleep(2)\n",
    "\n",
    "        table.append(driver.find_element(By.XPATH, f'//*[@id=\"course_search_list\"]/div[4]').text)  # 표 내용\n",
    "\n",
    "    f.append(table) "
   ]
  },
  {
   "cell_type": "code",
   "execution_count": null,
   "metadata": {},
   "outputs": [],
   "source": [
    "# 모듈 로딩\n",
    "import pandas as pd\n",
    "\n",
    "df = pd.DataFrame({'a':a, 'b':b, 'c':c, 'd':d, 'e':e})\n",
    "df.to_csv('디지털배움터1.csv')"
   ]
  },
  {
   "cell_type": "code",
   "execution_count": null,
   "metadata": {},
   "outputs": [],
   "source": [
    "df = pd.DataFrame({'f':f})\n",
    "df.to_csv('디지털배움터내용1.csv')"
   ]
  }
 ],
 "metadata": {
  "kernelspec": {
   "display_name": "Python 3 (ipykernel)",
   "language": "python",
   "name": "python3"
  },
  "language_info": {
   "codemirror_mode": {
    "name": "ipython",
    "version": 3
   },
   "file_extension": ".py",
   "mimetype": "text/x-python",
   "name": "python",
   "nbconvert_exporter": "python",
   "pygments_lexer": "ipython3",
   "version": "3.9.13"
  },
  "vscode": {
   "interpreter": {
    "hash": "11938c6bc6919ae2720b4d5011047913343b08a43b18698fd82dedb0d4417594"
   }
  }
 },
 "nbformat": 4,
 "nbformat_minor": 2
}
