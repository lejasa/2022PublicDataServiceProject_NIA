{
 "cells": [
  {
   "cell_type": "code",
   "execution_count": 1,
   "metadata": {},
   "outputs": [
    {
     "data": {
      "text/plain": [
       "Index(['Unnamed: 0', '0'], dtype='object')"
      ]
     },
     "execution_count": 1,
     "metadata": {},
     "output_type": "execute_result"
    }
   ],
   "source": [
    "# 모듈 로딩\n",
    "import pandas as pd\n",
    "\n",
    "# 파일 로딩\n",
    "df = pd.read_csv('./data/여가및문화정보.csv')\n",
    "\n",
    "# 컬럼명 확인\n",
    "df.columns"
   ]
  },
  {
   "cell_type": "code",
   "execution_count": 2,
   "metadata": {
    "scrolled": true
   },
   "outputs": [
    {
     "data": {
      "text/html": [
       "<div>\n",
       "<style scoped>\n",
       "    .dataframe tbody tr th:only-of-type {\n",
       "        vertical-align: middle;\n",
       "    }\n",
       "\n",
       "    .dataframe tbody tr th {\n",
       "        vertical-align: top;\n",
       "    }\n",
       "\n",
       "    .dataframe thead th {\n",
       "        text-align: right;\n",
       "    }\n",
       "</style>\n",
       "<table border=\"1\" class=\"dataframe\">\n",
       "  <thead>\n",
       "    <tr style=\"text-align: right;\">\n",
       "      <th></th>\n",
       "      <th>0</th>\n",
       "    </tr>\n",
       "  </thead>\n",
       "  <tbody>\n",
       "    <tr>\n",
       "      <th>0</th>\n",
       "      <td>음악/콘서트\\n공연/전시\\n유료\\n대구\\n김미리네 피아노 독주회 [대구]\\n제공유형...</td>\n",
       "    </tr>\n",
       "    <tr>\n",
       "      <th>1</th>\n",
       "      <td>국악\\n공연/전시\\n유료\\n서울\\n정수연 아홉 번째 작곡발표회, 흔적Ⅳ\\n제공유형\\...</td>\n",
       "    </tr>\n",
       "    <tr>\n",
       "      <th>2</th>\n",
       "      <td>음악/콘서트\\n공연/전시\\n유료\\n경기\\nClarinet 김욱, Solitaire ...</td>\n",
       "    </tr>\n",
       "    <tr>\n",
       "      <th>3</th>\n",
       "      <td>국악\\n공연/전시\\n무료\\n서울\\n제39회 단국대학교 음악대학 국악과 추계정기연주회...</td>\n",
       "    </tr>\n",
       "    <tr>\n",
       "      <th>4</th>\n",
       "      <td>음악/콘서트\\n공연/전시\\n유료\\n서울\\n이재호 귀국 바이올린 독주회\\n제공유형\\n...</td>\n",
       "    </tr>\n",
       "    <tr>\n",
       "      <th>...</th>\n",
       "      <td>...</td>\n",
       "    </tr>\n",
       "    <tr>\n",
       "      <th>3683</th>\n",
       "      <td>음악/콘서트\\n공연/전시\\n무료\\n내 손안의 콘서트 I - 윤혜순(하프), 홍서현(...</td>\n",
       "    </tr>\n",
       "    <tr>\n",
       "      <th>3684</th>\n",
       "      <td>음악/콘서트\\n공연/전시\\n무료\\n내 손안의 콘서트 IV - Percussions\\...</td>\n",
       "    </tr>\n",
       "    <tr>\n",
       "      <th>3685</th>\n",
       "      <td>음악/콘서트\\n공연/전시\\n무료\\n내 손안의 콘서트 II - 앙상블 The K\\n제...</td>\n",
       "    </tr>\n",
       "    <tr>\n",
       "      <th>3686</th>\n",
       "      <td>음악/콘서트\\n공연/전시\\n무료\\n내 손안의 콘서트 III - 4Violins &amp; ...</td>\n",
       "    </tr>\n",
       "    <tr>\n",
       "      <th>3687</th>\n",
       "      <td>뮤지컬/오페라\\n공연/전시\\n무료\\n내 손안의 콘서트 V - 앙상블 The K wi...</td>\n",
       "    </tr>\n",
       "  </tbody>\n",
       "</table>\n",
       "<p>3688 rows × 1 columns</p>\n",
       "</div>"
      ],
      "text/plain": [
       "                                                      0\n",
       "0     음악/콘서트\\n공연/전시\\n유료\\n대구\\n김미리네 피아노 독주회 [대구]\\n제공유형...\n",
       "1     국악\\n공연/전시\\n유료\\n서울\\n정수연 아홉 번째 작곡발표회, 흔적Ⅳ\\n제공유형\\...\n",
       "2     음악/콘서트\\n공연/전시\\n유료\\n경기\\nClarinet 김욱, Solitaire ...\n",
       "3     국악\\n공연/전시\\n무료\\n서울\\n제39회 단국대학교 음악대학 국악과 추계정기연주회...\n",
       "4     음악/콘서트\\n공연/전시\\n유료\\n서울\\n이재호 귀국 바이올린 독주회\\n제공유형\\n...\n",
       "...                                                 ...\n",
       "3683  음악/콘서트\\n공연/전시\\n무료\\n내 손안의 콘서트 I - 윤혜순(하프), 홍서현(...\n",
       "3684  음악/콘서트\\n공연/전시\\n무료\\n내 손안의 콘서트 IV - Percussions\\...\n",
       "3685  음악/콘서트\\n공연/전시\\n무료\\n내 손안의 콘서트 II - 앙상블 The K\\n제...\n",
       "3686  음악/콘서트\\n공연/전시\\n무료\\n내 손안의 콘서트 III - 4Violins & ...\n",
       "3687  뮤지컬/오페라\\n공연/전시\\n무료\\n내 손안의 콘서트 V - 앙상블 The K wi...\n",
       "\n",
       "[3688 rows x 1 columns]"
      ]
     },
     "execution_count": 2,
     "metadata": {},
     "output_type": "execute_result"
    }
   ],
   "source": [
    "# 필요 없는 컬럼 제거\n",
    "df = df.drop('Unnamed: 0', axis=1)\n",
    "df"
   ]
  },
  {
   "cell_type": "code",
   "execution_count": 3,
   "metadata": {},
   "outputs": [],
   "source": [
    "# 지역 담기 위기 위한 데이터 전처리\n",
    "re=[]  # 지역명 담을 리스트\n",
    "\n",
    "for idx in range(df.shape[0]):\n",
    "    if (len(df.iloc[idx][0].split('\\n')[3]) == 2) & (df.iloc[idx][0].split('\\n')[3] != '민화') & (df.iloc[idx][0].split('\\n')[3] != '팽이') & (df.iloc[idx][0].split('\\n')[3] != '공기'):\n",
    "        re.append(df.iloc[idx][0].split('\\n')[3])"
   ]
  },
  {
   "cell_type": "code",
   "execution_count": 4,
   "metadata": {},
   "outputs": [
    {
     "name": "stdout",
     "output_type": "stream",
     "text": [
      "['대구', '충남', '세종', '전북', '광주', '충북', '전남', '서울', '인천', '경북', '강원', '부산', '제주', '경남', '경기', '대전', '울산']\n"
     ]
    }
   ],
   "source": [
    "re1 = list(set(re))  # 지역명 중복 제거\n",
    "\n",
    "print(re1)  # 지역명 확인"
   ]
  },
  {
   "cell_type": "code",
   "execution_count": 5,
   "metadata": {},
   "outputs": [],
   "source": [
    "aa=[]  # 분류 1\n",
    "bb=[]  # 분류 2\n",
    "cc=[]  # 돈\n",
    "dd=[]  # 지역\n",
    "ee=[]  # 제목\n",
    "ff=[]  # 제공유형\n",
    "gg=[]  # 문의처\n",
    "hh=[]  # 장소\n",
    "ii=[]  # 기간\n",
    "\n",
    "\n",
    "for idx in range(df.shape[0]):\n",
    "    j = df.iloc[idx][0].split('\\n')\n",
    "\n",
    "    aa.append(j[0])  # 분류 1\n",
    "    bb.append(j[1])  # 분류 2\n",
    "    cc.append(j[2])  # 돈\n",
    "\n",
    "    if j[3] in re1:  # 지역\n",
    "        dd.append(j[3])\n",
    "    else: \n",
    "        dd.append('-')\n",
    "        \n",
    "    ee.append(j[j.index('제공유형')-1])  # 제목\n",
    "    ff.append(j[j.index('제공유형')+1])  # 제공유형\n",
    "\n",
    "    try:\n",
    "        gg.append(j[j.index('문의처')+1])  # 문의처\n",
    "\n",
    "    except:\n",
    "        gg.append('-')\n",
    "\n",
    "    try:\n",
    "        hh.append(j[j.index('장소')+1])  # 장소\n",
    "    \n",
    "    except:\n",
    "        hh.append('-')\n",
    "\n",
    "    try:\n",
    "        ii.append(j[j.index('기간')+1])  # 기간\n",
    "\n",
    "    except:\n",
    "        ii.append('-')\n"
   ]
  },
  {
   "cell_type": "code",
   "execution_count": 6,
   "metadata": {},
   "outputs": [],
   "source": [
    "# 하나의 데이터 프레임으로 만들기\n",
    "DF = pd.DataFrame({'분류1':aa,'분류2':bb,'돈':cc,'지역':dd,'제목':ee,'제공유형':ff,'장소':hh,'기간':ii,'문의처':gg})"
   ]
  },
  {
   "cell_type": "code",
   "execution_count": 7,
   "metadata": {},
   "outputs": [],
   "source": [
    "# '분류2' 컬럼 제거\n",
    "DF = DF.drop('분류2', axis=1)"
   ]
  },
  {
   "cell_type": "code",
   "execution_count": 8,
   "metadata": {},
   "outputs": [],
   "source": [
    "# '분류1' -> '구분' 컬럼명 변경\n",
    "DF = DF.rename(columns = {'분류1':'구분'})"
   ]
  },
  {
   "cell_type": "code",
   "execution_count": 9,
   "metadata": {},
   "outputs": [],
   "source": [
    "DF1 = DF.iloc[153:]  # 마감된 기간 삭제"
   ]
  },
  {
   "cell_type": "code",
   "execution_count": 10,
   "metadata": {},
   "outputs": [],
   "source": [
    "indd=[]  # 지역명 있는 인덱스 담을 리스트\n",
    "\n",
    "for i in DF1.index:\n",
    "    if (DF1.지역[i]!='-'):\n",
    "        indd.append(i)"
   ]
  },
  {
   "cell_type": "code",
   "execution_count": 11,
   "metadata": {},
   "outputs": [],
   "source": [
    "DF2 = DF1.loc[indd]  # 지역명 있는 데이터프레임만 추출"
   ]
  },
  {
   "cell_type": "code",
   "execution_count": 12,
   "metadata": {},
   "outputs": [],
   "source": [
    "DF2 = DF2.reset_index(drop=True)  # 인덱스 초기화"
   ]
  },
  {
   "cell_type": "code",
   "execution_count": 13,
   "metadata": {},
   "outputs": [
    {
     "data": {
      "text/plain": [
       "array(['서울', '부산', '광주', '대전', '경기', '경남', '인천', '충남', '경북', '대구', '충북',\n",
       "       '전북', '강원', '전남', '울산', '제주', '세종'], dtype=object)"
      ]
     },
     "execution_count": 13,
     "metadata": {},
     "output_type": "execute_result"
    }
   ],
   "source": [
    "DF2.지역.unique()  # '지역' 컬럼 값 확인"
   ]
  },
  {
   "cell_type": "code",
   "execution_count": 14,
   "metadata": {},
   "outputs": [],
   "source": [
    "# '지역' 컬럼에 값 변경\n",
    "addr = {'서울':'서울특별시', '부산':'부산광역시', '광주':'광주광역시',\n",
    "       '대전':'대전광역시', '경기':'경기도', '경남':'경상남도',\n",
    "       '인천':'인천광역시','충남':'충청남도', '경북':'경상남도',\n",
    "       '대구':'대구광역시', '충북':'충청북도','전북':'전라북도',\n",
    "       '강원':'강원도', '전남':'전라남도', '울산':'울산광역시',\n",
    "       '제주':'제주특별자치도', '세종':'세종특별자치시'}\n",
    "\n",
    "DF2['지역'] = DF2['지역'].apply(lambda v: addr.get(v, v))"
   ]
  },
  {
   "cell_type": "code",
   "execution_count": 15,
   "metadata": {
    "scrolled": true
   },
   "outputs": [
    {
     "data": {
      "text/plain": [
       "array(['서울특별시', '부산광역시', '광주광역시', '대전광역시', '경기도', '경상남도', '인천광역시', '충청남도',\n",
       "       '대구광역시', '충청북도', '전라북도', '강원도', '전라남도', '울산광역시', '제주특별자치도',\n",
       "       '세종특별자치시'], dtype=object)"
      ]
     },
     "execution_count": 15,
     "metadata": {},
     "output_type": "execute_result"
    }
   ],
   "source": [
    "# '지역' 컬럼 값 확인\n",
    "DF2.지역.unique()"
   ]
  },
  {
   "cell_type": "code",
   "execution_count": 16,
   "metadata": {},
   "outputs": [],
   "source": [
    "# '지역' -> '시도' 컬럼명 변경\n",
    "DF2 = DF2.rename(columns={'지역':'시도'})"
   ]
  },
  {
   "cell_type": "code",
   "execution_count": 17,
   "metadata": {},
   "outputs": [],
   "source": [
    "# 데이터프레임 DF2 -> csv 파일 저장\n",
    "DF2.to_csv('여가및문화정보최종.csv', index=False)"
   ]
  }
 ],
 "metadata": {
  "kernelspec": {
   "display_name": "Python 3 (ipykernel)",
   "language": "python",
   "name": "python3"
  },
  "language_info": {
   "codemirror_mode": {
    "name": "ipython",
    "version": 3
   },
   "file_extension": ".py",
   "mimetype": "text/x-python",
   "name": "python",
   "nbconvert_exporter": "python",
   "pygments_lexer": "ipython3",
   "version": "3.9.13"
  },
  "vscode": {
   "interpreter": {
    "hash": "11938c6bc6919ae2720b4d5011047913343b08a43b18698fd82dedb0d4417594"
   }
  }
 },
 "nbformat": 4,
 "nbformat_minor": 2
}
